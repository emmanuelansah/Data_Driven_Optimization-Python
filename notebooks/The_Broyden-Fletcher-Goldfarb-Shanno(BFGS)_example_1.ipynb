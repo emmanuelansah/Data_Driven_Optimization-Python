{
 "cells": [
  {
   "cell_type": "markdown",
   "id": "4d6a0936-39b7-46cf-acaf-e724e2866376",
   "metadata": {
    "id": "db52c8e1",
    "outputId": "0f760c1c-d694-4e0c-87f5-876779b14a91"
   },
   "source": [
    " # Iterative numerical solution of the optimization problem\n",
    " "
   ]
  },
  {
   "cell_type": "markdown",
   "id": "d0b6284b-6468-4992-8876-ccf6b5ac4bc7",
   "metadata": {
    "id": "db52c8e1",
    "outputId": "0f760c1c-d694-4e0c-87f5-876779b14a91"
   },
   "source": [
    "$\\min_{w \\in R^{2}}\\left\\{F(w) = w_{1}w_{2}e^{-w_{1}^{2}-w_{2}^2}\\right\\}$"
   ]
  },
  {
   "cell_type": "code",
   "execution_count": 1,
   "id": "d638afe0-0bee-46ee-885e-aca4ae453bc2",
   "metadata": {
    "id": "db52c8e1",
    "outputId": "0f760c1c-d694-4e0c-87f5-876779b14a91"
   },
   "outputs": [
    {
     "name": "stdout",
     "output_type": "stream",
     "text": [
      "[ 4.19309661e-09 -1.48634240e-08]\n",
      "3.6590432586762866e-05\n",
      "8\n"
     ]
    },
    {
     "data": {
      "text/plain": [
       "[<matplotlib.lines.Line2D at 0x21cc8890910>]"
      ]
     },
     "execution_count": 1,
     "metadata": {},
     "output_type": "execute_result"
    },
    {
     "data": {
      "image/png": "[encoded data removed]",
      "text/plain": [
       "<Figure size 640x480 with 1 Axes>"
      ]
     },
     "metadata": {},
     "output_type": "display_data"
    }
   ],
   "source": [
    "import numpy as np\n",
    "import numpy.linalg as la\n",
    "import scipy.optimize as sopt\n",
    "import matplotlib.pyplot as pt\n",
    "from mpl_toolkits.mplot3d import axes3d\n",
    "\n",
    "\n",
    "\n",
    "def myFun(w):\n",
    "    return w[0]*w[1]*np.exp(-w[0]**2-w[1]**2)*(w[0]*w[1]) + 1000*(w[0]**2 + w[1]**2)\n",
    "\n",
    "def gradFun(w):\n",
    "    return np.array([-2*w[0]*w[1]*np.exp(-w[0]**2-w[1]**2)-2*np.exp(-w[0]**2-w[1]**2)*(w[0]**2)*w[1] + 2000*w[0], \\\n",
    "                     np.exp(-w[0]**2-w[1]**2)*w[0]-2*np.exp(-w[0]**2-w[1]**2)*(w[1]**2)*w[0]]  + 2000*w[1])\n",
    "\n",
    "#def oneDFun(alpha):\n",
    "#    return myFun(x + alpha*dk)\n",
    "\n",
    "\n",
    "iterate = np.array([-1, -1])  #initial iterate\n",
    "historyIter = [iterate]\n",
    "historyFun=[myFun(iterate)]\n",
    "maxIter=1000\n",
    "tol=0.0001\n",
    "k=0\n",
    "\n",
    "\n",
    "\n",
    "N = len(iterate)\n",
    "\n",
    "I = np.eye(N, dtype=int) # Identity matrix I of size NxN.\n",
    "Bk = I   # Set the first iteration matrix for BFGS\n",
    "\n",
    "\n",
    "grad=gradFun(iterate)\n",
    "\n",
    "\n",
    "while  (la.norm(gradFun(iterate)) > tol) and (k <= maxIter):\n",
    "#for i in range(maxIter):\n",
    "     b = -gradFun(iterate)    \n",
    "     dk = np.linalg.solve(Bk,b)  # determine the search direction\n",
    "        \n",
    "     #dk = -Bk*gradFun(iterate)  # when using the DFP update in QN Method\n",
    "     ################ constant step length \n",
    "     next_iterate = iterate + dk  # constant alpha\n",
    "     ################ Exact line search\n",
    "     #alpha=0.01\n",
    "     # exactAlpha = sopt.golden(oneDFun)   #  needs import scipy.optimize as sopt\n",
    "     #exactAlpha = sopt.golden(oneDFun)   #  optimal alpha\n",
    "     #next_iterate = iterate + exactAlpha*dk # updates the iterate\n",
    "     \n",
    "     ######## BFGS rank-2 matrix update  ##############\n",
    "     sk = next_iterate - iterate\n",
    "     yk = gradFun(next_iterate)-gradFun(iterate) \n",
    "        \n",
    "     r0 = 1.0 / (np.dot(yk, sk))\n",
    "     A1 = r0*np.outer(yk,yk)\n",
    "     vk = sk.dot(Bk)\n",
    "     r1 = 1.0/(np.dot(sk,vk))\n",
    "     A2 = r1*np.outer(vk,vk)    \n",
    "     # Matrix update\n",
    "     Bk = Bk + A1 - A2 \n",
    "     \n",
    "     ############# List for Plotting function values ###########  \n",
    "     historyIter.append(next_iterate)\n",
    "     funValue=myFun(next_iterate)\n",
    "     historyFun.append(funValue)\n",
    "     ######## update iteration counter and the new iterate\n",
    "     k=k+1\n",
    "     iterate=next_iterate\n",
    "        \n",
    "       \n",
    "\n",
    "\n",
    "############# after the termination of the algorithm #############\n",
    "print(iterate)\n",
    "grad=gradFun(iterate)\n",
    "print(la.norm(grad))\n",
    "print(k) # number of iteration until termination\n",
    "\n",
    "functionValues = np. array(historyFun)\n",
    "functionValues = functionValues.flatten()\n",
    "n=len(functionValues)\n",
    "\n",
    "x=range(n)\n",
    "pt.plot(x, historyFun)"
   ]
  },
  {
   "cell_type": "code",
   "execution_count": null,
   "id": "0b750272",
   "metadata": {
    "id": "0b750272"
   },
   "outputs": [],
   "source": []
  },
  {
   "cell_type": "code",
   "execution_count": null,
   "id": "520f5549",
   "metadata": {},
   "outputs": [],
   "source": []
  }
 ],
 "metadata": {
  "colab": {
   "provenance": []
  },
  "kernelspec": {
   "display_name": "base",
   "language": "python",
   "name": "python3"
  },
  "language_info": {
   "codemirror_mode": {
    "name": "ipython",
    "version": 3
   },
   "file_extension": ".py",
   "mimetype": "text/x-python",
   "name": "python",
   "nbconvert_exporter": "python",
   "pygments_lexer": "ipython3",
   "version": "3.11.7"
  }
 },
 "nbformat": 4,
 "nbformat_minor": 5
}
