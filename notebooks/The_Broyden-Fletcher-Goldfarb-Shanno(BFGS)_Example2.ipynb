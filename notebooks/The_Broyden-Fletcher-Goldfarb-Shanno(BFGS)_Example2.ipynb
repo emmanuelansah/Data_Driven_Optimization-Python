{
 "cells": [
  {
   "cell_type": "markdown",
   "id": "a2abf00d",
   "metadata": {},
   "source": [
    "# Example: Use the Quasi-Newton BFGS algorithm to solve"
   ]
  },
  {
   "cell_type": "markdown",
   "id": "b7f66dfa",
   "metadata": {},
   "source": [
    "$\\min_{x}\\left\\{f(x)=3(x_{1}^2 +x_{2}^{2})+4x_{1}x_{2}+5x_{1}+6x_{2}+7 \\right\\}$"
   ]
  },
  {
   "cell_type": "code",
   "execution_count": 1,
   "id": "e13e8b36",
   "metadata": {},
   "outputs": [
    {
     "name": "stdout",
     "output_type": "stream",
     "text": [
      "====================================================================\n",
      "iteration                alphak                norm(grad)\n",
      "====================================================================\n",
      "2                        1.0                      706.5274233885051        \n",
      "Solution: [-55. -46.]\n"
     ]
    }
   ],
   "source": [
    "import numpy as np\n",
    "import matplotlib.pyplot as plt\n",
    "\n",
    "def bfgs1(x0, tolf, maxIter):\n",
    "    \"\"\"\n",
    "    Python implementation of the BFGS method for optimization.\n",
    "\n",
    "    Args:\n",
    "    x0: Initial iterate (numpy array)\n",
    "    tolf: Tolerance for stopping condition based on gradient norm\n",
    "    maxIter: Maximum number of iterations\n",
    "    Returns:\n",
    "    xsol: Solution found by the BFGS method\n",
    "    \"\"\"\n",
    "    print('====================================================================')\n",
    "    print('iteration                alphak                norm(grad)')\n",
    "    print('====================================================================')\n",
    "    \n",
    "    xk = x0.reshape(-1)  # Ensure x0 is a 1D array\n",
    "    alphak = 1.0\n",
    "    k = 0\n",
    "    Bk = np.eye(2)  # Initialize Bk as the identity matrix\n",
    "    datasave = []\n",
    "    grad = gradFun(xk)\n",
    "    fk = myfun(xk)\n",
    "    ff = np.array([fk])\n",
    "    while np.linalg.norm(grad) >= tolf and k <= maxIter:\n",
    "        # BFGS direction\n",
    "        dk = np.linalg.inv(Bk) @ (-grad)\n",
    "        xold = xk\n",
    "        gradOld = grad\n",
    "\n",
    "        # Update the solution\n",
    "        xk = xk + alphak * dk\n",
    "        # xx = np.column_stack((xx, xk))\n",
    "\n",
    "        grad = -gradFun(xk)\n",
    "\n",
    "        # Quasi-Newton update\n",
    "        y = grad - gradOld\n",
    "        s = xk - xold\n",
    "        gamma = 1 / (s.T @ Bk @ s)\n",
    "        alpha = 1 / (y.T @ s)\n",
    "\n",
    "        Bk = Bk - gamma * (Bk @ s)[:, None] * (Bk @ s) + alpha * (y[:, None] @ y[:, None].T)\n",
    "\n",
    "        # Update function value\n",
    "        fk = myfun(xk)\n",
    "        ff = np.append(ff, fk)\n",
    "\n",
    "        k += 1\n",
    "        datasave.append([k + 1, alphak, np.linalg.norm(grad)])\n",
    "\n",
    "        xsol = xk\n",
    "        \n",
    "        # Display iteration data\n",
    "        for data in datasave:\n",
    "            print(f'{data[0]:<25}{data[1]:<25}{data[2]:<25}')\n",
    "\n",
    "\n",
    "\n",
    "        return xsol\n",
    "\n",
    "def myfun(x):\n",
    "    \"\"\"\n",
    "    Objective function F(x)\n",
    "    \"\"\"\n",
    "    return 3*(x[0]**2 + x[1]**2) + 4*x[0]*x[1] + 5*x[0] + 6*x[1] + 7\n",
    "\n",
    "def gradFun(x):\n",
    "    \"\"\"\n",
    "    Gradient of the objective function F(x)\n",
    "    \"\"\"\n",
    "    grad = np.zeros(2)\n",
    "    grad[0] = 6*x[0] + 4*x[1] + 5\n",
    "    grad[1] = 4*x[0] + 6*x[1] + 6\n",
    "    return grad\n",
    "\n",
    "# Example usage\n",
    "x0 = np.array([10.0, 0.0])\n",
    "tolf = 1e-6\n",
    "maxIter = 100\n",
    "xsol = bfgs1(x0, tolf, maxIter)\n",
    "print(f\"Solution: {xsol}\")"
   ]
  },
  {
   "cell_type": "code",
   "execution_count": null,
   "id": "34bb46f3",
   "metadata": {},
   "outputs": [],
   "source": []
  },
  {
   "cell_type": "code",
   "execution_count": null,
   "id": "b8e31df9",
   "metadata": {},
   "outputs": [],
   "source": []
  }
 ],
 "metadata": {
  "kernelspec": {
   "display_name": "base",
   "language": "python",
   "name": "python3"
  },
  "language_info": {
   "codemirror_mode": {
    "name": "ipython",
    "version": 3
   },
   "file_extension": ".py",
   "mimetype": "text/x-python",
   "name": "python",
   "nbconvert_exporter": "python",
   "pygments_lexer": "ipython3",
   "version": "3.11.7"
  }
 },
 "nbformat": 4,
 "nbformat_minor": 5
}
