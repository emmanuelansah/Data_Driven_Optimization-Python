{
  "nbformat": 4,
  "nbformat_minor": 0,
  "metadata": {
    "colab": {
      "provenance": []
    },
    "kernelspec": {
      "name": "python3",
      "display_name": "Python 3"
    },
    "language_info": {
      "name": "python"
    }
  },
  "cells": [
    {
      "cell_type": "markdown",
      "source": [
        "# 1. Use the ScikitLearn machine learning library to implement"
      ],
      "metadata": {
        "id": "YN6nLTNXcx_n"
      }
    },
    {
      "cell_type": "markdown",
      "source": [
        "## (i) Linear Regression"
      ],
      "metadata": {
        "id": "DrgHQKRKdKID"
      }
    },
    {
      "cell_type": "code",
      "execution_count": 37,
      "metadata": {
        "id": "rriDubY4ccix"
      },
      "outputs": [],
      "source": [
        "# Import necessary libraries\n",
        "import pandas as pd\n",
        "import numpy as np\n",
        "import statsmodels.api as sm\n",
        "from sklearn.model_selection import train_test_split, cross_val_score\n",
        "from sklearn.linear_model import LinearRegression, Ridge, ElasticNet\n",
        "from sklearn.metrics import mean_squared_error, r2_score\n",
        "from sklearn.preprocessing import StandardScaler, LabelEncoder\n",
        "from sklearn.impute import SimpleImputer\n",
        "from sklearn.model_selection import KFold\n",
        "from sklearn.model_selection import GridSearchCV\n",
        "import matplotlib.pyplot as plt\n",
        "import seaborn as sns\n",
        "import warnings\n",
        "from sklearn.exceptions import ConvergenceWarning"
      ]
    },
    {
      "cell_type": "code",
      "source": [
        "from google.colab import drive\n",
        "drive.mount('/content/drive')"
      ],
      "metadata": {
        "colab": {
          "base_uri": "https://localhost:8080/"
        },
        "id": "jaPOdYV8d74R",
        "outputId": "8fb2cdcd-71e6-4a3c-b211-ad63d5415f95"
      },
      "execution_count": 55,
      "outputs": [
        {
          "output_type": "stream",
          "name": "stdout",
          "text": [
            "Drive already mounted at /content/drive; to attempt to forcibly remount, call drive.mount(\"/content/drive\", force_remount=True).\n"
          ]
        }
      ]
    },
    {
      "cell_type": "code",
      "source": [
        "# Load the CSV data into a pandas DataFrame\n",
        "data1 = pd.read_csv('/content/drive/MyDrive/DDO/LifeExpectancyData.csv')"
      ],
      "metadata": {
        "id": "tQuRoqTAfF3m"
      },
      "execution_count": 2,
      "outputs": []
    },
    {
      "cell_type": "code",
      "source": [
        "data1.head()"
      ],
      "metadata": {
        "colab": {
          "base_uri": "https://localhost:8080/",
          "height": 307
        },
        "id": "w-76qY8egF2W",
        "outputId": "66f568af-620d-4fa8-ef7c-49010075d7fa"
      },
      "execution_count": 3,
      "outputs": [
        {
          "output_type": "execute_result",
          "data": {
            "text/plain": [
              "       Country  Year      Status  Life expectancy   Adult Mortality  \\\n",
              "0  Afghanistan  2015  Developing              65.0            263.0   \n",
              "1  Afghanistan  2014  Developing              59.9            271.0   \n",
              "2  Afghanistan  2013  Developing              59.9            268.0   \n",
              "3  Afghanistan  2012  Developing              59.5            272.0   \n",
              "4  Afghanistan  2011  Developing              59.2            275.0   \n",
              "\n",
              "   infant deaths  Alcohol  percentage expenditure  Hepatitis B  Measles   ...  \\\n",
              "0             62     0.01               71.279624         65.0      1154  ...   \n",
              "1             64     0.01               73.523582         62.0       492  ...   \n",
              "2             66     0.01               73.219243         64.0       430  ...   \n",
              "3             69     0.01               78.184215         67.0      2787  ...   \n",
              "4             71     0.01                7.097109         68.0      3013  ...   \n",
              "\n",
              "   Polio  Total expenditure  Diphtheria    HIV/AIDS         GDP  Population  \\\n",
              "0    6.0               8.16         65.0        0.1  584.259210  33736494.0   \n",
              "1   58.0               8.18         62.0        0.1  612.696514    327582.0   \n",
              "2   62.0               8.13         64.0        0.1  631.744976  31731688.0   \n",
              "3   67.0               8.52         67.0        0.1  669.959000   3696958.0   \n",
              "4   68.0               7.87         68.0        0.1   63.537231   2978599.0   \n",
              "\n",
              "    thinness  1-19 years   thinness 5-9 years  \\\n",
              "0                   17.2                 17.3   \n",
              "1                   17.5                 17.5   \n",
              "2                   17.7                 17.7   \n",
              "3                   17.9                 18.0   \n",
              "4                   18.2                 18.2   \n",
              "\n",
              "   Income composition of resources  Schooling  \n",
              "0                            0.479       10.1  \n",
              "1                            0.476       10.0  \n",
              "2                            0.470        9.9  \n",
              "3                            0.463        9.8  \n",
              "4                            0.454        9.5  \n",
              "\n",
              "[5 rows x 22 columns]"
            ],
            "text/html": [
              "\n",
              "  <div id=\"df-0a34551f-d07b-40fb-8e9c-ac6142789b16\" class=\"colab-df-container\">\n",
              "    <div>\n",
              "<style scoped>\n",
              "    .dataframe tbody tr th:only-of-type {\n",
              "        vertical-align: middle;\n",
              "    }\n",
              "\n",
              "    .dataframe tbody tr th {\n",
              "        vertical-align: top;\n",
              "    }\n",
              "\n",
              "    .dataframe thead th {\n",
              "        text-align: right;\n",
              "    }\n",
              "</style>\n",
              "<table border=\"1\" class=\"dataframe\">\n",
              "  <thead>\n",
              "    <tr style=\"text-align: right;\">\n",
              "      <th></th>\n",
              "      <th>Country</th>\n",
              "      <th>Year</th>\n",
              "      <th>Status</th>\n",
              "      <th>Life expectancy</th>\n",
              "      <th>Adult Mortality</th>\n",
              "      <th>infant deaths</th>\n",
              "      <th>Alcohol</th>\n",
              "      <th>percentage expenditure</th>\n",
              "      <th>Hepatitis B</th>\n",
              "      <th>Measles</th>\n",
              "      <th>...</th>\n",
              "      <th>Polio</th>\n",
              "      <th>Total expenditure</th>\n",
              "      <th>Diphtheria</th>\n",
              "      <th>HIV/AIDS</th>\n",
              "      <th>GDP</th>\n",
              "      <th>Population</th>\n",
              "      <th>thinness  1-19 years</th>\n",
              "      <th>thinness 5-9 years</th>\n",
              "      <th>Income composition of resources</th>\n",
              "      <th>Schooling</th>\n",
              "    </tr>\n",
              "  </thead>\n",
              "  <tbody>\n",
              "    <tr>\n",
              "      <th>0</th>\n",
              "      <td>Afghanistan</td>\n",
              "      <td>2015</td>\n",
              "      <td>Developing</td>\n",
              "      <td>65.0</td>\n",
              "      <td>263.0</td>\n",
              "      <td>62</td>\n",
              "      <td>0.01</td>\n",
              "      <td>71.279624</td>\n",
              "      <td>65.0</td>\n",
              "      <td>1154</td>\n",
              "      <td>...</td>\n",
              "      <td>6.0</td>\n",
              "      <td>8.16</td>\n",
              "      <td>65.0</td>\n",
              "      <td>0.1</td>\n",
              "      <td>584.259210</td>\n",
              "      <td>33736494.0</td>\n",
              "      <td>17.2</td>\n",
              "      <td>17.3</td>\n",
              "      <td>0.479</td>\n",
              "      <td>10.1</td>\n",
              "    </tr>\n",
              "    <tr>\n",
              "      <th>1</th>\n",
              "      <td>Afghanistan</td>\n",
              "      <td>2014</td>\n",
              "      <td>Developing</td>\n",
              "      <td>59.9</td>\n",
              "      <td>271.0</td>\n",
              "      <td>64</td>\n",
              "      <td>0.01</td>\n",
              "      <td>73.523582</td>\n",
              "      <td>62.0</td>\n",
              "      <td>492</td>\n",
              "      <td>...</td>\n",
              "      <td>58.0</td>\n",
              "      <td>8.18</td>\n",
              "      <td>62.0</td>\n",
              "      <td>0.1</td>\n",
              "      <td>612.696514</td>\n",
              "      <td>327582.0</td>\n",
              "      <td>17.5</td>\n",
              "      <td>17.5</td>\n",
              "      <td>0.476</td>\n",
              "      <td>10.0</td>\n",
              "    </tr>\n",
              "    <tr>\n",
              "      <th>2</th>\n",
              "      <td>Afghanistan</td>\n",
              "      <td>2013</td>\n",
              "      <td>Developing</td>\n",
              "      <td>59.9</td>\n",
              "      <td>268.0</td>\n",
              "      <td>66</td>\n",
              "      <td>0.01</td>\n",
              "      <td>73.219243</td>\n",
              "      <td>64.0</td>\n",
              "      <td>430</td>\n",
              "      <td>...</td>\n",
              "      <td>62.0</td>\n",
              "      <td>8.13</td>\n",
              "      <td>64.0</td>\n",
              "      <td>0.1</td>\n",
              "      <td>631.744976</td>\n",
              "      <td>31731688.0</td>\n",
              "      <td>17.7</td>\n",
              "      <td>17.7</td>\n",
              "      <td>0.470</td>\n",
              "      <td>9.9</td>\n",
              "    </tr>\n",
              "    <tr>\n",
              "      <th>3</th>\n",
              "      <td>Afghanistan</td>\n",
              "      <td>2012</td>\n",
              "      <td>Developing</td>\n",
              "      <td>59.5</td>\n",
              "      <td>272.0</td>\n",
              "      <td>69</td>\n",
              "      <td>0.01</td>\n",
              "      <td>78.184215</td>\n",
              "      <td>67.0</td>\n",
              "      <td>2787</td>\n",
              "      <td>...</td>\n",
              "      <td>67.0</td>\n",
              "      <td>8.52</td>\n",
              "      <td>67.0</td>\n",
              "      <td>0.1</td>\n",
              "      <td>669.959000</td>\n",
              "      <td>3696958.0</td>\n",
              "      <td>17.9</td>\n",
              "      <td>18.0</td>\n",
              "      <td>0.463</td>\n",
              "      <td>9.8</td>\n",
              "    </tr>\n",
              "    <tr>\n",
              "      <th>4</th>\n",
              "      <td>Afghanistan</td>\n",
              "      <td>2011</td>\n",
              "      <td>Developing</td>\n",
              "      <td>59.2</td>\n",
              "      <td>275.0</td>\n",
              "      <td>71</td>\n",
              "      <td>0.01</td>\n",
              "      <td>7.097109</td>\n",
              "      <td>68.0</td>\n",
              "      <td>3013</td>\n",
              "      <td>...</td>\n",
              "      <td>68.0</td>\n",
              "      <td>7.87</td>\n",
              "      <td>68.0</td>\n",
              "      <td>0.1</td>\n",
              "      <td>63.537231</td>\n",
              "      <td>2978599.0</td>\n",
              "      <td>18.2</td>\n",
              "      <td>18.2</td>\n",
              "      <td>0.454</td>\n",
              "      <td>9.5</td>\n",
              "    </tr>\n",
              "  </tbody>\n",
              "</table>\n",
              "<p>5 rows × 22 columns</p>\n",
              "</div>\n",
              "    <div class=\"colab-df-buttons\">\n",
              "\n",
              "  <div class=\"colab-df-container\">\n",
              "    <button class=\"colab-df-convert\" onclick=\"convertToInteractive('df-0a34551f-d07b-40fb-8e9c-ac6142789b16')\"\n",
              "            title=\"Convert this dataframe to an interactive table.\"\n",
              "            style=\"display:none;\">\n",
              "\n",
              "  <svg xmlns=\"http://www.w3.org/2000/svg\" height=\"24px\" viewBox=\"0 -960 960 960\">\n",
              "    <path d=\"M120-120v-720h720v720H120Zm60-500h600v-160H180v160Zm220 220h160v-160H400v160Zm0 220h160v-160H400v160ZM180-400h160v-160H180v160Zm440 0h160v-160H620v160ZM180-180h160v-160H180v160Zm440 0h160v-160H620v160Z\"/>\n",
              "  </svg>\n",
              "    </button>\n",
              "\n",
              "  <style>\n",
              "    .colab-df-container {\n",
              "      display:flex;\n",
              "      gap: 12px;\n",
              "    }\n",
              "\n",
              "    .colab-df-convert {\n",
              "      background-color: #E8F0FE;\n",
              "      border: none;\n",
              "      border-radius: 50%;\n",
              "      cursor: pointer;\n",
              "      display: none;\n",
              "      fill: #1967D2;\n",
              "      height: 32px;\n",
              "      padding: 0 0 0 0;\n",
              "      width: 32px;\n",
              "    }\n",
              "\n",
              "    .colab-df-convert:hover {\n",
              "      background-color: #E2EBFA;\n",
              "      box-shadow: 0px 1px 2px rgba(60, 64, 67, 0.3), 0px 1px 3px 1px rgba(60, 64, 67, 0.15);\n",
              "      fill: #174EA6;\n",
              "    }\n",
              "\n",
              "    .colab-df-buttons div {\n",
              "      margin-bottom: 4px;\n",
              "    }\n",
              "\n",
              "    [theme=dark] .colab-df-convert {\n",
              "      background-color: #3B4455;\n",
              "      fill: #D2E3FC;\n",
              "    }\n",
              "\n",
              "    [theme=dark] .colab-df-convert:hover {\n",
              "      background-color: #434B5C;\n",
              "      box-shadow: 0px 1px 3px 1px rgba(0, 0, 0, 0.15);\n",
              "      filter: drop-shadow(0px 1px 2px rgba(0, 0, 0, 0.3));\n",
              "      fill: #FFFFFF;\n",
              "    }\n",
              "  </style>\n",
              "\n",
              "    <script>\n",
              "      const buttonEl =\n",
              "        document.querySelector('#df-0a34551f-d07b-40fb-8e9c-ac6142789b16 button.colab-df-convert');\n",
              "      buttonEl.style.display =\n",
              "        google.colab.kernel.accessAllowed ? 'block' : 'none';\n",
              "\n",
              "      async function convertToInteractive(key) {\n",
              "        const element = document.querySelector('#df-0a34551f-d07b-40fb-8e9c-ac6142789b16');\n",
              "        const dataTable =\n",
              "          await google.colab.kernel.invokeFunction('convertToInteractive',\n",
              "                                                    [key], {});\n",
              "        if (!dataTable) return;\n",
              "\n",
              "        const docLinkHtml = 'Like what you see? Visit the ' +\n",
              "          '<a target=\"_blank\" href=https://colab.research.google.com/notebooks/data_table.ipynb>data table notebook</a>'\n",
              "          + ' to learn more about interactive tables.';\n",
              "        element.innerHTML = '';\n",
              "        dataTable['output_type'] = 'display_data';\n",
              "        await google.colab.output.renderOutput(dataTable, element);\n",
              "        const docLink = document.createElement('div');\n",
              "        docLink.innerHTML = docLinkHtml;\n",
              "        element.appendChild(docLink);\n",
              "      }\n",
              "    </script>\n",
              "  </div>\n",
              "\n",
              "\n",
              "<div id=\"df-a30f1aa4-00b1-498a-802e-25d6b54264d0\">\n",
              "  <button class=\"colab-df-quickchart\" onclick=\"quickchart('df-a30f1aa4-00b1-498a-802e-25d6b54264d0')\"\n",
              "            title=\"Suggest charts\"\n",
              "            style=\"display:none;\">\n",
              "\n",
              "<svg xmlns=\"http://www.w3.org/2000/svg\" height=\"24px\"viewBox=\"0 0 24 24\"\n",
              "     width=\"24px\">\n",
              "    <g>\n",
              "        <path d=\"M19 3H5c-1.1 0-2 .9-2 2v14c0 1.1.9 2 2 2h14c1.1 0 2-.9 2-2V5c0-1.1-.9-2-2-2zM9 17H7v-7h2v7zm4 0h-2V7h2v10zm4 0h-2v-4h2v4z\"/>\n",
              "    </g>\n",
              "</svg>\n",
              "  </button>\n",
              "\n",
              "<style>\n",
              "  .colab-df-quickchart {\n",
              "      --bg-color: #E8F0FE;\n",
              "      --fill-color: #1967D2;\n",
              "      --hover-bg-color: #E2EBFA;\n",
              "      --hover-fill-color: #174EA6;\n",
              "      --disabled-fill-color: #AAA;\n",
              "      --disabled-bg-color: #DDD;\n",
              "  }\n",
              "\n",
              "  [theme=dark] .colab-df-quickchart {\n",
              "      --bg-color: #3B4455;\n",
              "      --fill-color: #D2E3FC;\n",
              "      --hover-bg-color: #434B5C;\n",
              "      --hover-fill-color: #FFFFFF;\n",
              "      --disabled-bg-color: #3B4455;\n",
              "      --disabled-fill-color: #666;\n",
              "  }\n",
              "\n",
              "  .colab-df-quickchart {\n",
              "    background-color: var(--bg-color);\n",
              "    border: none;\n",
              "    border-radius: 50%;\n",
              "    cursor: pointer;\n",
              "    display: none;\n",
              "    fill: var(--fill-color);\n",
              "    height: 32px;\n",
              "    padding: 0;\n",
              "    width: 32px;\n",
              "  }\n",
              "\n",
              "  .colab-df-quickchart:hover {\n",
              "    background-color: var(--hover-bg-color);\n",
              "    box-shadow: 0 1px 2px rgba(60, 64, 67, 0.3), 0 1px 3px 1px rgba(60, 64, 67, 0.15);\n",
              "    fill: var(--button-hover-fill-color);\n",
              "  }\n",
              "\n",
              "  .colab-df-quickchart-complete:disabled,\n",
              "  .colab-df-quickchart-complete:disabled:hover {\n",
              "    background-color: var(--disabled-bg-color);\n",
              "    fill: var(--disabled-fill-color);\n",
              "    box-shadow: none;\n",
              "  }\n",
              "\n",
              "  .colab-df-spinner {\n",
              "    border: 2px solid var(--fill-color);\n",
              "    border-color: transparent;\n",
              "    border-bottom-color: var(--fill-color);\n",
              "    animation:\n",
              "      spin 1s steps(1) infinite;\n",
              "  }\n",
              "\n",
              "  @keyframes spin {\n",
              "    0% {\n",
              "      border-color: transparent;\n",
              "      border-bottom-color: var(--fill-color);\n",
              "      border-left-color: var(--fill-color);\n",
              "    }\n",
              "    20% {\n",
              "      border-color: transparent;\n",
              "      border-left-color: var(--fill-color);\n",
              "      border-top-color: var(--fill-color);\n",
              "    }\n",
              "    30% {\n",
              "      border-color: transparent;\n",
              "      border-left-color: var(--fill-color);\n",
              "      border-top-color: var(--fill-color);\n",
              "      border-right-color: var(--fill-color);\n",
              "    }\n",
              "    40% {\n",
              "      border-color: transparent;\n",
              "      border-right-color: var(--fill-color);\n",
              "      border-top-color: var(--fill-color);\n",
              "    }\n",
              "    60% {\n",
              "      border-color: transparent;\n",
              "      border-right-color: var(--fill-color);\n",
              "    }\n",
              "    80% {\n",
              "      border-color: transparent;\n",
              "      border-right-color: var(--fill-color);\n",
              "      border-bottom-color: var(--fill-color);\n",
              "    }\n",
              "    90% {\n",
              "      border-color: transparent;\n",
              "      border-bottom-color: var(--fill-color);\n",
              "    }\n",
              "  }\n",
              "</style>\n",
              "\n",
              "  <script>\n",
              "    async function quickchart(key) {\n",
              "      const quickchartButtonEl =\n",
              "        document.querySelector('#' + key + ' button');\n",
              "      quickchartButtonEl.disabled = true;  // To prevent multiple clicks.\n",
              "      quickchartButtonEl.classList.add('colab-df-spinner');\n",
              "      try {\n",
              "        const charts = await google.colab.kernel.invokeFunction(\n",
              "            'suggestCharts', [key], {});\n",
              "      } catch (error) {\n",
              "        console.error('Error during call to suggestCharts:', error);\n",
              "      }\n",
              "      quickchartButtonEl.classList.remove('colab-df-spinner');\n",
              "      quickchartButtonEl.classList.add('colab-df-quickchart-complete');\n",
              "    }\n",
              "    (() => {\n",
              "      let quickchartButtonEl =\n",
              "        document.querySelector('#df-a30f1aa4-00b1-498a-802e-25d6b54264d0 button');\n",
              "      quickchartButtonEl.style.display =\n",
              "        google.colab.kernel.accessAllowed ? 'block' : 'none';\n",
              "    })();\n",
              "  </script>\n",
              "</div>\n",
              "\n",
              "    </div>\n",
              "  </div>\n"
            ],
            "application/vnd.google.colaboratory.intrinsic+json": {
              "type": "dataframe",
              "variable_name": "data1"
            }
          },
          "metadata": {},
          "execution_count": 3
        }
      ]
    },
    {
      "cell_type": "markdown",
      "source": [
        "# --- Data Cleaning and Preprocessing ---\n"
      ],
      "metadata": {
        "id": "WCNKBLrcTv1F"
      }
    },
    {
      "cell_type": "code",
      "source": [
        "# Select features (independent variables) and target (dependent variable)\n",
        "features = ['Year', 'Status', 'Adult Mortality', 'infant deaths', 'Alcohol',\n",
        "            'percentage expenditure', 'Hepatitis B', 'Measles ', ' BMI ',\n",
        "            'under-five deaths ', 'Polio', 'Total expenditure', 'Diphtheria ',\n",
        "            ' HIV/AIDS', 'GDP', 'Population', ' thinness  1-19 years',\n",
        "            ' thinness 5-9 years', 'Income composition of resources', 'Schooling']\n",
        "target = 'Life expectancy '"
      ],
      "metadata": {
        "id": "9tW7mlIOfoZQ"
      },
      "execution_count": 4,
      "outputs": []
    },
    {
      "cell_type": "code",
      "source": [
        "# Missing Value Analysis:\n",
        "print(\"\\nMissing values:\\n\", data1.isnull().sum())"
      ],
      "metadata": {
        "colab": {
          "base_uri": "https://localhost:8080/"
        },
        "id": "CM01PTW2eis8",
        "outputId": "32d4e1d4-97d1-415a-a97b-48b5e8bd667c"
      },
      "execution_count": 6,
      "outputs": [
        {
          "output_type": "stream",
          "name": "stdout",
          "text": [
            "\n",
            "Missing values:\n",
            " Country                              0\n",
            "Year                                 0\n",
            "Status                               0\n",
            "Life expectancy                     10\n",
            "Adult Mortality                     10\n",
            "infant deaths                        0\n",
            "Alcohol                            194\n",
            "percentage expenditure               0\n",
            "Hepatitis B                        553\n",
            "Measles                              0\n",
            " BMI                                34\n",
            "under-five deaths                    0\n",
            "Polio                               19\n",
            "Total expenditure                  226\n",
            "Diphtheria                          19\n",
            " HIV/AIDS                            0\n",
            "GDP                                448\n",
            "Population                         652\n",
            " thinness  1-19 years               34\n",
            " thinness 5-9 years                 34\n",
            "Income composition of resources    167\n",
            "Schooling                          163\n",
            "dtype: int64\n"
          ]
        }
      ]
    },
    {
      "cell_type": "code",
      "source": [
        "# Drop rows where the target variable is missing\n",
        "data1.dropna(subset=[target], inplace=True)\n",
        "\n",
        "# Impute missing values in the remaining features using the mean strategy\n",
        "imputer = SimpleImputer(strategy='mean')\n",
        "\n",
        "# Select only numerical features for imputation\n",
        "numerical_features = data1[features].select_dtypes(include=np.number).columns\n",
        "\n",
        "# Apply imputation to numerical features only\n",
        "data1[numerical_features] = imputer.fit_transform(data1[numerical_features])\n",
        "\n",
        "# For categorical feature 'Status', use most frequent strategy:\n",
        "categorical_imputer = SimpleImputer(strategy='most_frequent')  # Use most_frequent for categorical\n",
        "\n",
        "# Select the 'Status' column\n",
        "categorical_features = ['Status']\n",
        "\n",
        "# Apply imputation to the categorical feature 'Status'\n",
        "data1[categorical_features] = categorical_imputer.fit_transform(data1[categorical_features])\n"
      ],
      "metadata": {
        "id": "-We-Fkerew8w"
      },
      "execution_count": 7,
      "outputs": []
    },
    {
      "cell_type": "code",
      "source": [
        "print(\"\\nMissing values after imputation:\\n\", data1.isnull().sum())"
      ],
      "metadata": {
        "colab": {
          "base_uri": "https://localhost:8080/"
        },
        "id": "TP8giKN-gYqv",
        "outputId": "5e2b2bc3-8384-481e-d8b9-bcb73f012e7d"
      },
      "execution_count": 8,
      "outputs": [
        {
          "output_type": "stream",
          "name": "stdout",
          "text": [
            "\n",
            "Missing values after imputation:\n",
            " Country                            0\n",
            "Year                               0\n",
            "Status                             0\n",
            "Life expectancy                    0\n",
            "Adult Mortality                    0\n",
            "infant deaths                      0\n",
            "Alcohol                            0\n",
            "percentage expenditure             0\n",
            "Hepatitis B                        0\n",
            "Measles                            0\n",
            " BMI                               0\n",
            "under-five deaths                  0\n",
            "Polio                              0\n",
            "Total expenditure                  0\n",
            "Diphtheria                         0\n",
            " HIV/AIDS                          0\n",
            "GDP                                0\n",
            "Population                         0\n",
            " thinness  1-19 years              0\n",
            " thinness 5-9 years                0\n",
            "Income composition of resources    0\n",
            "Schooling                          0\n",
            "dtype: int64\n"
          ]
        }
      ]
    },
    {
      "cell_type": "code",
      "source": [
        "# Handle categorical variables using one-hot encoding\n",
        "data1 = pd.get_dummies(data1, columns=['Status'], drop_first=True)"
      ],
      "metadata": {
        "id": "NbA-NGMsg_Ou"
      },
      "execution_count": 9,
      "outputs": []
    },
    {
      "cell_type": "code",
      "source": [
        "data1.head()"
      ],
      "metadata": {
        "colab": {
          "base_uri": "https://localhost:8080/",
          "height": 307
        },
        "id": "zqwSKAcIhZ8s",
        "outputId": "bd03cfd8-eb52-47a5-d8a7-26341abb81e4"
      },
      "execution_count": 10,
      "outputs": [
        {
          "output_type": "execute_result",
          "data": {
            "text/plain": [
              "       Country    Year  Life expectancy   Adult Mortality  infant deaths  \\\n",
              "0  Afghanistan  2015.0              65.0            263.0           62.0   \n",
              "1  Afghanistan  2014.0              59.9            271.0           64.0   \n",
              "2  Afghanistan  2013.0              59.9            268.0           66.0   \n",
              "3  Afghanistan  2012.0              59.5            272.0           69.0   \n",
              "4  Afghanistan  2011.0              59.2            275.0           71.0   \n",
              "\n",
              "   Alcohol  percentage expenditure  Hepatitis B  Measles    BMI   ...  \\\n",
              "0     0.01               71.279624         65.0    1154.0   19.1  ...   \n",
              "1     0.01               73.523582         62.0     492.0   18.6  ...   \n",
              "2     0.01               73.219243         64.0     430.0   18.1  ...   \n",
              "3     0.01               78.184215         67.0    2787.0   17.6  ...   \n",
              "4     0.01                7.097109         68.0    3013.0   17.2  ...   \n",
              "\n",
              "   Total expenditure  Diphtheria    HIV/AIDS         GDP  Population  \\\n",
              "0               8.16         65.0        0.1  584.259210  33736494.0   \n",
              "1               8.18         62.0        0.1  612.696514    327582.0   \n",
              "2               8.13         64.0        0.1  631.744976  31731688.0   \n",
              "3               8.52         67.0        0.1  669.959000   3696958.0   \n",
              "4               7.87         68.0        0.1   63.537231   2978599.0   \n",
              "\n",
              "    thinness  1-19 years   thinness 5-9 years  \\\n",
              "0                   17.2                 17.3   \n",
              "1                   17.5                 17.5   \n",
              "2                   17.7                 17.7   \n",
              "3                   17.9                 18.0   \n",
              "4                   18.2                 18.2   \n",
              "\n",
              "   Income composition of resources  Schooling  Status_Developing  \n",
              "0                            0.479       10.1               True  \n",
              "1                            0.476       10.0               True  \n",
              "2                            0.470        9.9               True  \n",
              "3                            0.463        9.8               True  \n",
              "4                            0.454        9.5               True  \n",
              "\n",
              "[5 rows x 22 columns]"
            ],
            "text/html": [
              "\n",
              "  <div id=\"df-aca065a2-2a39-469c-952b-5247d0cf930f\" class=\"colab-df-container\">\n",
              "    <div>\n",
              "<style scoped>\n",
              "    .dataframe tbody tr th:only-of-type {\n",
              "        vertical-align: middle;\n",
              "    }\n",
              "\n",
              "    .dataframe tbody tr th {\n",
              "        vertical-align: top;\n",
              "    }\n",
              "\n",
              "    .dataframe thead th {\n",
              "        text-align: right;\n",
              "    }\n",
              "</style>\n",
              "<table border=\"1\" class=\"dataframe\">\n",
              "  <thead>\n",
              "    <tr style=\"text-align: right;\">\n",
              "      <th></th>\n",
              "      <th>Country</th>\n",
              "      <th>Year</th>\n",
              "      <th>Life expectancy</th>\n",
              "      <th>Adult Mortality</th>\n",
              "      <th>infant deaths</th>\n",
              "      <th>Alcohol</th>\n",
              "      <th>percentage expenditure</th>\n",
              "      <th>Hepatitis B</th>\n",
              "      <th>Measles</th>\n",
              "      <th>BMI</th>\n",
              "      <th>...</th>\n",
              "      <th>Total expenditure</th>\n",
              "      <th>Diphtheria</th>\n",
              "      <th>HIV/AIDS</th>\n",
              "      <th>GDP</th>\n",
              "      <th>Population</th>\n",
              "      <th>thinness  1-19 years</th>\n",
              "      <th>thinness 5-9 years</th>\n",
              "      <th>Income composition of resources</th>\n",
              "      <th>Schooling</th>\n",
              "      <th>Status_Developing</th>\n",
              "    </tr>\n",
              "  </thead>\n",
              "  <tbody>\n",
              "    <tr>\n",
              "      <th>0</th>\n",
              "      <td>Afghanistan</td>\n",
              "      <td>2015.0</td>\n",
              "      <td>65.0</td>\n",
              "      <td>263.0</td>\n",
              "      <td>62.0</td>\n",
              "      <td>0.01</td>\n",
              "      <td>71.279624</td>\n",
              "      <td>65.0</td>\n",
              "      <td>1154.0</td>\n",
              "      <td>19.1</td>\n",
              "      <td>...</td>\n",
              "      <td>8.16</td>\n",
              "      <td>65.0</td>\n",
              "      <td>0.1</td>\n",
              "      <td>584.259210</td>\n",
              "      <td>33736494.0</td>\n",
              "      <td>17.2</td>\n",
              "      <td>17.3</td>\n",
              "      <td>0.479</td>\n",
              "      <td>10.1</td>\n",
              "      <td>True</td>\n",
              "    </tr>\n",
              "    <tr>\n",
              "      <th>1</th>\n",
              "      <td>Afghanistan</td>\n",
              "      <td>2014.0</td>\n",
              "      <td>59.9</td>\n",
              "      <td>271.0</td>\n",
              "      <td>64.0</td>\n",
              "      <td>0.01</td>\n",
              "      <td>73.523582</td>\n",
              "      <td>62.0</td>\n",
              "      <td>492.0</td>\n",
              "      <td>18.6</td>\n",
              "      <td>...</td>\n",
              "      <td>8.18</td>\n",
              "      <td>62.0</td>\n",
              "      <td>0.1</td>\n",
              "      <td>612.696514</td>\n",
              "      <td>327582.0</td>\n",
              "      <td>17.5</td>\n",
              "      <td>17.5</td>\n",
              "      <td>0.476</td>\n",
              "      <td>10.0</td>\n",
              "      <td>True</td>\n",
              "    </tr>\n",
              "    <tr>\n",
              "      <th>2</th>\n",
              "      <td>Afghanistan</td>\n",
              "      <td>2013.0</td>\n",
              "      <td>59.9</td>\n",
              "      <td>268.0</td>\n",
              "      <td>66.0</td>\n",
              "      <td>0.01</td>\n",
              "      <td>73.219243</td>\n",
              "      <td>64.0</td>\n",
              "      <td>430.0</td>\n",
              "      <td>18.1</td>\n",
              "      <td>...</td>\n",
              "      <td>8.13</td>\n",
              "      <td>64.0</td>\n",
              "      <td>0.1</td>\n",
              "      <td>631.744976</td>\n",
              "      <td>31731688.0</td>\n",
              "      <td>17.7</td>\n",
              "      <td>17.7</td>\n",
              "      <td>0.470</td>\n",
              "      <td>9.9</td>\n",
              "      <td>True</td>\n",
              "    </tr>\n",
              "    <tr>\n",
              "      <th>3</th>\n",
              "      <td>Afghanistan</td>\n",
              "      <td>2012.0</td>\n",
              "      <td>59.5</td>\n",
              "      <td>272.0</td>\n",
              "      <td>69.0</td>\n",
              "      <td>0.01</td>\n",
              "      <td>78.184215</td>\n",
              "      <td>67.0</td>\n",
              "      <td>2787.0</td>\n",
              "      <td>17.6</td>\n",
              "      <td>...</td>\n",
              "      <td>8.52</td>\n",
              "      <td>67.0</td>\n",
              "      <td>0.1</td>\n",
              "      <td>669.959000</td>\n",
              "      <td>3696958.0</td>\n",
              "      <td>17.9</td>\n",
              "      <td>18.0</td>\n",
              "      <td>0.463</td>\n",
              "      <td>9.8</td>\n",
              "      <td>True</td>\n",
              "    </tr>\n",
              "    <tr>\n",
              "      <th>4</th>\n",
              "      <td>Afghanistan</td>\n",
              "      <td>2011.0</td>\n",
              "      <td>59.2</td>\n",
              "      <td>275.0</td>\n",
              "      <td>71.0</td>\n",
              "      <td>0.01</td>\n",
              "      <td>7.097109</td>\n",
              "      <td>68.0</td>\n",
              "      <td>3013.0</td>\n",
              "      <td>17.2</td>\n",
              "      <td>...</td>\n",
              "      <td>7.87</td>\n",
              "      <td>68.0</td>\n",
              "      <td>0.1</td>\n",
              "      <td>63.537231</td>\n",
              "      <td>2978599.0</td>\n",
              "      <td>18.2</td>\n",
              "      <td>18.2</td>\n",
              "      <td>0.454</td>\n",
              "      <td>9.5</td>\n",
              "      <td>True</td>\n",
              "    </tr>\n",
              "  </tbody>\n",
              "</table>\n",
              "<p>5 rows × 22 columns</p>\n",
              "</div>\n",
              "    <div class=\"colab-df-buttons\">\n",
              "\n",
              "  <div class=\"colab-df-container\">\n",
              "    <button class=\"colab-df-convert\" onclick=\"convertToInteractive('df-aca065a2-2a39-469c-952b-5247d0cf930f')\"\n",
              "            title=\"Convert this dataframe to an interactive table.\"\n",
              "            style=\"display:none;\">\n",
              "\n",
              "  <svg xmlns=\"http://www.w3.org/2000/svg\" height=\"24px\" viewBox=\"0 -960 960 960\">\n",
              "    <path d=\"M120-120v-720h720v720H120Zm60-500h600v-160H180v160Zm220 220h160v-160H400v160Zm0 220h160v-160H400v160ZM180-400h160v-160H180v160Zm440 0h160v-160H620v160ZM180-180h160v-160H180v160Zm440 0h160v-160H620v160Z\"/>\n",
              "  </svg>\n",
              "    </button>\n",
              "\n",
              "  <style>\n",
              "    .colab-df-container {\n",
              "      display:flex;\n",
              "      gap: 12px;\n",
              "    }\n",
              "\n",
              "    .colab-df-convert {\n",
              "      background-color: #E8F0FE;\n",
              "      border: none;\n",
              "      border-radius: 50%;\n",
              "      cursor: pointer;\n",
              "      display: none;\n",
              "      fill: #1967D2;\n",
              "      height: 32px;\n",
              "      padding: 0 0 0 0;\n",
              "      width: 32px;\n",
              "    }\n",
              "\n",
              "    .colab-df-convert:hover {\n",
              "      background-color: #E2EBFA;\n",
              "      box-shadow: 0px 1px 2px rgba(60, 64, 67, 0.3), 0px 1px 3px 1px rgba(60, 64, 67, 0.15);\n",
              "      fill: #174EA6;\n",
              "    }\n",
              "\n",
              "    .colab-df-buttons div {\n",
              "      margin-bottom: 4px;\n",
              "    }\n",
              "\n",
              "    [theme=dark] .colab-df-convert {\n",
              "      background-color: #3B4455;\n",
              "      fill: #D2E3FC;\n",
              "    }\n",
              "\n",
              "    [theme=dark] .colab-df-convert:hover {\n",
              "      background-color: #434B5C;\n",
              "      box-shadow: 0px 1px 3px 1px rgba(0, 0, 0, 0.15);\n",
              "      filter: drop-shadow(0px 1px 2px rgba(0, 0, 0, 0.3));\n",
              "      fill: #FFFFFF;\n",
              "    }\n",
              "  </style>\n",
              "\n",
              "    <script>\n",
              "      const buttonEl =\n",
              "        document.querySelector('#df-aca065a2-2a39-469c-952b-5247d0cf930f button.colab-df-convert');\n",
              "      buttonEl.style.display =\n",
              "        google.colab.kernel.accessAllowed ? 'block' : 'none';\n",
              "\n",
              "      async function convertToInteractive(key) {\n",
              "        const element = document.querySelector('#df-aca065a2-2a39-469c-952b-5247d0cf930f');\n",
              "        const dataTable =\n",
              "          await google.colab.kernel.invokeFunction('convertToInteractive',\n",
              "                                                    [key], {});\n",
              "        if (!dataTable) return;\n",
              "\n",
              "        const docLinkHtml = 'Like what you see? Visit the ' +\n",
              "          '<a target=\"_blank\" href=https://colab.research.google.com/notebooks/data_table.ipynb>data table notebook</a>'\n",
              "          + ' to learn more about interactive tables.';\n",
              "        element.innerHTML = '';\n",
              "        dataTable['output_type'] = 'display_data';\n",
              "        await google.colab.output.renderOutput(dataTable, element);\n",
              "        const docLink = document.createElement('div');\n",
              "        docLink.innerHTML = docLinkHtml;\n",
              "        element.appendChild(docLink);\n",
              "      }\n",
              "    </script>\n",
              "  </div>\n",
              "\n",
              "\n",
              "<div id=\"df-7d21ff13-20eb-46a1-8f08-31f235ef803d\">\n",
              "  <button class=\"colab-df-quickchart\" onclick=\"quickchart('df-7d21ff13-20eb-46a1-8f08-31f235ef803d')\"\n",
              "            title=\"Suggest charts\"\n",
              "            style=\"display:none;\">\n",
              "\n",
              "<svg xmlns=\"http://www.w3.org/2000/svg\" height=\"24px\"viewBox=\"0 0 24 24\"\n",
              "     width=\"24px\">\n",
              "    <g>\n",
              "        <path d=\"M19 3H5c-1.1 0-2 .9-2 2v14c0 1.1.9 2 2 2h14c1.1 0 2-.9 2-2V5c0-1.1-.9-2-2-2zM9 17H7v-7h2v7zm4 0h-2V7h2v10zm4 0h-2v-4h2v4z\"/>\n",
              "    </g>\n",
              "</svg>\n",
              "  </button>\n",
              "\n",
              "<style>\n",
              "  .colab-df-quickchart {\n",
              "      --bg-color: #E8F0FE;\n",
              "      --fill-color: #1967D2;\n",
              "      --hover-bg-color: #E2EBFA;\n",
              "      --hover-fill-color: #174EA6;\n",
              "      --disabled-fill-color: #AAA;\n",
              "      --disabled-bg-color: #DDD;\n",
              "  }\n",
              "\n",
              "  [theme=dark] .colab-df-quickchart {\n",
              "      --bg-color: #3B4455;\n",
              "      --fill-color: #D2E3FC;\n",
              "      --hover-bg-color: #434B5C;\n",
              "      --hover-fill-color: #FFFFFF;\n",
              "      --disabled-bg-color: #3B4455;\n",
              "      --disabled-fill-color: #666;\n",
              "  }\n",
              "\n",
              "  .colab-df-quickchart {\n",
              "    background-color: var(--bg-color);\n",
              "    border: none;\n",
              "    border-radius: 50%;\n",
              "    cursor: pointer;\n",
              "    display: none;\n",
              "    fill: var(--fill-color);\n",
              "    height: 32px;\n",
              "    padding: 0;\n",
              "    width: 32px;\n",
              "  }\n",
              "\n",
              "  .colab-df-quickchart:hover {\n",
              "    background-color: var(--hover-bg-color);\n",
              "    box-shadow: 0 1px 2px rgba(60, 64, 67, 0.3), 0 1px 3px 1px rgba(60, 64, 67, 0.15);\n",
              "    fill: var(--button-hover-fill-color);\n",
              "  }\n",
              "\n",
              "  .colab-df-quickchart-complete:disabled,\n",
              "  .colab-df-quickchart-complete:disabled:hover {\n",
              "    background-color: var(--disabled-bg-color);\n",
              "    fill: var(--disabled-fill-color);\n",
              "    box-shadow: none;\n",
              "  }\n",
              "\n",
              "  .colab-df-spinner {\n",
              "    border: 2px solid var(--fill-color);\n",
              "    border-color: transparent;\n",
              "    border-bottom-color: var(--fill-color);\n",
              "    animation:\n",
              "      spin 1s steps(1) infinite;\n",
              "  }\n",
              "\n",
              "  @keyframes spin {\n",
              "    0% {\n",
              "      border-color: transparent;\n",
              "      border-bottom-color: var(--fill-color);\n",
              "      border-left-color: var(--fill-color);\n",
              "    }\n",
              "    20% {\n",
              "      border-color: transparent;\n",
              "      border-left-color: var(--fill-color);\n",
              "      border-top-color: var(--fill-color);\n",
              "    }\n",
              "    30% {\n",
              "      border-color: transparent;\n",
              "      border-left-color: var(--fill-color);\n",
              "      border-top-color: var(--fill-color);\n",
              "      border-right-color: var(--fill-color);\n",
              "    }\n",
              "    40% {\n",
              "      border-color: transparent;\n",
              "      border-right-color: var(--fill-color);\n",
              "      border-top-color: var(--fill-color);\n",
              "    }\n",
              "    60% {\n",
              "      border-color: transparent;\n",
              "      border-right-color: var(--fill-color);\n",
              "    }\n",
              "    80% {\n",
              "      border-color: transparent;\n",
              "      border-right-color: var(--fill-color);\n",
              "      border-bottom-color: var(--fill-color);\n",
              "    }\n",
              "    90% {\n",
              "      border-color: transparent;\n",
              "      border-bottom-color: var(--fill-color);\n",
              "    }\n",
              "  }\n",
              "</style>\n",
              "\n",
              "  <script>\n",
              "    async function quickchart(key) {\n",
              "      const quickchartButtonEl =\n",
              "        document.querySelector('#' + key + ' button');\n",
              "      quickchartButtonEl.disabled = true;  // To prevent multiple clicks.\n",
              "      quickchartButtonEl.classList.add('colab-df-spinner');\n",
              "      try {\n",
              "        const charts = await google.colab.kernel.invokeFunction(\n",
              "            'suggestCharts', [key], {});\n",
              "      } catch (error) {\n",
              "        console.error('Error during call to suggestCharts:', error);\n",
              "      }\n",
              "      quickchartButtonEl.classList.remove('colab-df-spinner');\n",
              "      quickchartButtonEl.classList.add('colab-df-quickchart-complete');\n",
              "    }\n",
              "    (() => {\n",
              "      let quickchartButtonEl =\n",
              "        document.querySelector('#df-7d21ff13-20eb-46a1-8f08-31f235ef803d button');\n",
              "      quickchartButtonEl.style.display =\n",
              "        google.colab.kernel.accessAllowed ? 'block' : 'none';\n",
              "    })();\n",
              "  </script>\n",
              "</div>\n",
              "\n",
              "    </div>\n",
              "  </div>\n"
            ],
            "application/vnd.google.colaboratory.intrinsic+json": {
              "type": "dataframe",
              "variable_name": "data1"
            }
          },
          "metadata": {},
          "execution_count": 10
        }
      ]
    },
    {
      "cell_type": "markdown",
      "source": [
        "# --- Exploratory Data Analysis ---\n",
        "\n"
      ],
      "metadata": {
        "id": "wpHmUflXTprV"
      }
    },
    {
      "cell_type": "code",
      "source": [
        "# Descriptive Statistics:\n",
        "print(\"Descriptive statistics:\\n\", data1.describe())\n"
      ],
      "metadata": {
        "colab": {
          "base_uri": "https://localhost:8080/"
        },
        "id": "IW7AP6nffFy6",
        "outputId": "d012b5e9-63c6-4a38-c2a2-13f1a390f62a"
      },
      "execution_count": 11,
      "outputs": [
        {
          "output_type": "stream",
          "name": "stdout",
          "text": [
            "Descriptive statistics:\n",
            "              Year  Life expectancy   Adult Mortality  infant deaths  \\\n",
            "count  2928.00000       2928.000000      2928.000000    2928.000000   \n",
            "mean   2007.50000         69.224932       164.796448      30.407445   \n",
            "std       4.61056          9.523867       124.292079     118.114450   \n",
            "min    2000.00000         36.300000         1.000000       0.000000   \n",
            "25%    2003.75000         63.100000        74.000000       0.000000   \n",
            "50%    2007.50000         72.100000       144.000000       3.000000   \n",
            "75%    2011.25000         75.700000       228.000000      22.000000   \n",
            "max    2015.00000         89.000000       723.000000    1800.000000   \n",
            "\n",
            "           Alcohol  percentage expenditure  Hepatitis B       Measles   \\\n",
            "count  2928.000000             2928.000000  2928.000000    2928.000000   \n",
            "mean      4.614856              740.321185    80.960842    2427.855874   \n",
            "std       3.914923             1990.930605    22.531361   11485.970937   \n",
            "min       0.010000                0.000000     1.000000       0.000000   \n",
            "25%       1.107500                4.853964    80.960842       0.000000   \n",
            "50%       4.160000               65.611455    87.000000      17.000000   \n",
            "75%       7.400000              442.614322    96.000000     362.250000   \n",
            "max      17.870000            19479.911610    99.000000  212183.000000   \n",
            "\n",
            "              BMI   under-five deaths         Polio  Total expenditure  \\\n",
            "count  2928.000000         2928.000000  2928.000000        2928.000000   \n",
            "mean     38.235394           42.179303    82.548298           5.930163   \n",
            "std      19.850184          160.700547    23.340548           2.385478   \n",
            "min       1.000000            0.000000     3.000000           0.370000   \n",
            "25%      19.400000            0.000000    78.000000           4.370000   \n",
            "50%      43.000000            4.000000    93.000000           5.930163   \n",
            "75%      56.100000           28.000000    97.000000           7.330000   \n",
            "max      77.600000         2500.000000    99.000000          17.600000   \n",
            "\n",
            "       Diphtheria      HIV/AIDS            GDP    Population  \\\n",
            "count  2928.000000  2928.000000    2928.000000  2.928000e+03   \n",
            "mean     82.321416     1.747712    7494.210719  1.276454e+07   \n",
            "std      23.629576     5.085542   13157.128331  5.390628e+07   \n",
            "min       2.000000     0.100000       1.681350  3.400000e+01   \n",
            "25%      78.000000     0.100000     578.797095  4.181205e+05   \n",
            "50%      93.000000     0.100000    3112.560501  3.640009e+06   \n",
            "75%      97.000000     0.800000    7494.210719  1.276454e+07   \n",
            "max      99.000000    50.600000  119172.741800  1.293859e+09   \n",
            "\n",
            "        thinness  1-19 years   thinness 5-9 years  \\\n",
            "count            2928.000000          2928.000000   \n",
            "mean                4.850622             4.881423   \n",
            "std                 4.396597             4.484890   \n",
            "min                 0.100000             0.100000   \n",
            "25%                 1.600000             1.600000   \n",
            "50%                 3.400000             3.400000   \n",
            "75%                 7.100000             7.200000   \n",
            "max                27.700000            28.600000   \n",
            "\n",
            "       Income composition of resources    Schooling  \n",
            "count                      2928.000000  2928.000000  \n",
            "mean                          0.627419    11.999639  \n",
            "std                           0.205131     3.253691  \n",
            "min                           0.000000     0.000000  \n",
            "25%                           0.504000    10.300000  \n",
            "50%                           0.662000    12.100000  \n",
            "75%                           0.773000    14.100000  \n",
            "max                           0.948000    20.700000  \n"
          ]
        }
      ]
    },
    {
      "cell_type": "markdown",
      "source": [
        "The data spans from the year 2000 to 2015, with an average year of 2007.5. Life expectancy averages around 69.22 years, ranging from 36.3 to 89 years, while adult mortality rates average at 164.79 per 1,000, with significant variability. Infant deaths average at 30.41, with a maximum of 1800. Alcohol-related metrics average at 4.61, and percentage expenditure shows high variability with an average of 740.32. Hepatitis B and measles cases average at 80.96 and 2427.86, respectively, with measles reaching a maximum of 212,183 cases. The average BMI is 38.24, and under-five deaths average at 42.18. Polio cases average at 82.55, and total expenditure averages at 5.93. Diphtheria and HIV/AIDS incidences average at 82.32 and 1.75, respectively. GDP averages at 7494.21, with a wide range up to 119,172.74, and the average population is approximately 12.76 million. Thinness metrics for ages 1-19 and 5-9 years average at 4.85 and 4.88, respectively. The income composition of resources averages at 0.627, and schooling averages at 11.99 years."
      ],
      "metadata": {
        "id": "wUYSWi7GX_n0"
      }
    },
    {
      "cell_type": "code",
      "source": [
        "# Calculate Correlation Matrix\n",
        "numerical_data = data1.select_dtypes(include=np.number)\n",
        "corr_matrix = numerical_data.corr()"
      ],
      "metadata": {
        "id": "fNyZ86ZifFv_"
      },
      "execution_count": 12,
      "outputs": []
    },
    {
      "cell_type": "code",
      "source": [
        "# Correlation Matrix\n",
        "plt.figure(figsize=(12, 10))\n",
        "\n",
        "# Select only numerical features for correlation analysis\n",
        "numerical_data = data1.select_dtypes(include=np.number)\n",
        "corr_matrix = numerical_data.corr()\n",
        "sns.heatmap(corr_matrix, annot=True, cmap=\"coolwarm\", fmt=\".2f\")\n",
        "plt.title(\"Correlation Matrix of Features\")\n",
        "plt.show()"
      ],
      "metadata": {
        "colab": {
          "base_uri": "https://localhost:8080/",
          "height": 1000
        },
        "id": "4-iFUhxLfFs3",
        "outputId": "2cde53f1-3279-4cfc-8571-d27540ef64b7"
      },
      "execution_count": 13,
      "outputs": [
        {
          "output_type": "display_data",
          "data": {
            "text/plain": [
              "<Figure size 1200x1000 with 2 Axes>"
            ],
            "image/png": "[encoded data removed]"
          },
          "metadata": {}
        }
      ]
    },
    {
      "cell_type": "markdown",
      "source": [
        "The correlation plot shows that there is a strong positive correlation between life expectancy and factors such as GDP and schooling, suggesting that higher economic development and education levels are associated with longer life expectancy.\n",
        "\n",
        "Conversely, infant and adult mortality rates exhibit a negative correlation with life expectancy and GDP, indicating that higher mortality rates are linked to lower economic development and life expectancy.\n",
        "\n",
        "Additionally, health expenditure shows a moderate positive correlation with life expectancy and a negative correlation with infant deaths, implying that increased health spending is associated with better health outcomes."
      ],
      "metadata": {
        "id": "Eid2ey8PXIcl"
      }
    },
    {
      "cell_type": "code",
      "source": [
        "# Analyze the correlation matrix for multicollinearity\n",
        "high_corr_pairs = []\n",
        "for i in range(len(corr_matrix.columns)):\n",
        "    for j in range(i):\n",
        "        if abs(corr_matrix.iloc[i, j]) > 0.8:\n",
        "            high_corr_pairs.append((corr_matrix.columns[i], corr_matrix.columns[j], corr_matrix.iloc[i, j]))\n",
        "\n",
        "print(\"\\nHighly correlated feature pairs (correlation > 0.8):\")\n",
        "for pair in high_corr_pairs:\n",
        "    print(f\"Feature 1: {pair[0]}, Feature 2: {pair[1]}, Correlation: {pair[2]:.2f}\")"
      ],
      "metadata": {
        "colab": {
          "base_uri": "https://localhost:8080/"
        },
        "id": "ainj4fnkp7qX",
        "outputId": "9ab4a3ca-8667-4713-a7b4-57c4867b04e3"
      },
      "execution_count": 14,
      "outputs": [
        {
          "output_type": "stream",
          "name": "stdout",
          "text": [
            "\n",
            "Highly correlated feature pairs (correlation > 0.8):\n",
            "Feature 1: under-five deaths , Feature 2: infant deaths, Correlation: 1.00\n",
            "Feature 1: GDP, Feature 2: percentage expenditure, Correlation: 0.89\n",
            "Feature 1:  thinness 5-9 years, Feature 2:  thinness  1-19 years, Correlation: 0.94\n",
            "Feature 1: Schooling, Feature 2: Income composition of resources, Correlation: 0.80\n"
          ]
        }
      ]
    },
    {
      "cell_type": "code",
      "source": [
        "# Remove highly correlated features\n",
        "features_to_drop = ['under-five deaths', 'thinness 5-9 years', 'percentage expenditure', 'Schooling']  # features to drop\n",
        "\n",
        "# Filter out any features that were already dropped during label encoding or target drop\n",
        "features_to_drop = [f for f in features_to_drop if f in data1.columns]\n",
        "\n",
        "data1.drop(features_to_drop, axis=1, inplace=True)\n",
        "features = [f for f in features if f not in features_to_drop]"
      ],
      "metadata": {
        "id": "-FJJ6XkrjL3S"
      },
      "execution_count": 15,
      "outputs": []
    },
    {
      "cell_type": "code",
      "source": [
        "data1.columns"
      ],
      "metadata": {
        "colab": {
          "base_uri": "https://localhost:8080/"
        },
        "id": "k5Hu5WXajgfL",
        "outputId": "068d87ae-dfdb-41fa-c366-821ddb952b1b"
      },
      "execution_count": 16,
      "outputs": [
        {
          "output_type": "execute_result",
          "data": {
            "text/plain": [
              "Index(['Country', 'Year', 'Life expectancy ', 'Adult Mortality',\n",
              "       'infant deaths', 'Alcohol', 'Hepatitis B', 'Measles ', ' BMI ',\n",
              "       'under-five deaths ', 'Polio', 'Total expenditure', 'Diphtheria ',\n",
              "       ' HIV/AIDS', 'GDP', 'Population', ' thinness  1-19 years',\n",
              "       ' thinness 5-9 years', 'Income composition of resources',\n",
              "       'Status_Developing'],\n",
              "      dtype='object')"
            ]
          },
          "metadata": {},
          "execution_count": 16
        }
      ]
    },
    {
      "cell_type": "code",
      "source": [
        "# Histograms of Numerical Features\n",
        "data1.hist(figsize=(15, 10), bins=20)\n",
        "plt.suptitle(\"Histograms of Numerical Features\", fontsize=16)\n",
        "plt.tight_layout(rect=[0, 0.03, 1, 0.95])  # Adjust layout to prevent title overlap\n",
        "plt.show()"
      ],
      "metadata": {
        "colab": {
          "base_uri": "https://localhost:8080/",
          "height": 891
        },
        "id": "sUVo3bKLfFn2",
        "outputId": "94fcc3d8-2bd6-4c7e-94e6-92fd6fbd16d4"
      },
      "execution_count": 17,
      "outputs": [
        {
          "output_type": "display_data",
          "data": {
            "text/plain": [
              "<Figure size 1500x1000 with 20 Axes>"
            ],
            "image/png": "[encoded data removed]"
          },
          "metadata": {}
        }
      ]
    },
    {
      "cell_type": "markdown",
      "source": [
        "Adult mortality rates are generally low, with most data points concentrated at the lower end of the scale. Infant deaths are also predominantly low, with a sharp decline as the number increases. Alcohol-related metrics are mostly low, with a few higher outliers. Hepatitis B incidence shows variability, with peaks at both lower and higher ends. Measles cases are largely concentrated at very low values, with occasional outliers. BMI data is spread across the range, with notable peaks around 20-30 and 50-60. Under-five deaths are predominantly low, showing a sharp decline as values increase. Polio cases are mostly low, with a few higher values. Total expenditure is concentrated around lower values, peaking around 5-10. Diphtheria data shows most values are low, with a peak at the higher end. HIV/AIDS data is heavily skewed towards lower values. GDP distribution shows a concentration at lower values, with a long tail extending to higher figures. Population data points are mostly at the lower end, with a few very high values. Thinness metrics for ages 1-19 and 5-9 years both show most values at the lower end, gradually declining. The income composition of resources is spread across the range, peaking around 0.6-0.8."
      ],
      "metadata": {
        "id": "l98wIPjfmVal"
      }
    },
    {
      "cell_type": "code",
      "source": [
        "# Pie Chart of 'Status' Distribution\n",
        "status_counts = data1['Status_Developing'].value_counts()\n",
        "plt.figure(figsize=(6, 6))\n",
        "plt.pie(status_counts, labels=status_counts.index, autopct='%1.1f%%', startangle=140)\n",
        "plt.title(\"Distribution of Status_Developing\")\n",
        "plt.show()"
      ],
      "metadata": {
        "colab": {
          "base_uri": "https://localhost:8080/",
          "height": 521
        },
        "id": "KpZkaArGh7a6",
        "outputId": "53e70430-3324-4da8-d2b6-38d5e276122e"
      },
      "execution_count": 20,
      "outputs": [
        {
          "output_type": "display_data",
          "data": {
            "text/plain": [
              "<Figure size 600x600 with 1 Axes>"
            ],
            "image/png": "[encoded data removed]"
          },
          "metadata": {}
        }
      ]
    },
    {
      "cell_type": "markdown",
      "source": [
        "A significant majority, 82.5%, of the countries are classified as developed, indicating a higher level of economic development and income. In contrast, 17.5% are classified as developing, reflecting lower economic status. This distribution underscores the global disparity in economic development, with most countries achieving higher development status while a smaller portion remains in the developing category."
      ],
      "metadata": {
        "id": "QnPxAw35mXQU"
      }
    },
    {
      "cell_type": "code",
      "source": [
        "# Histogram of Life Expectancy\n",
        "plt.figure(figsize=(10, 6))\n",
        "plt.hist(data1['Life expectancy '], bins=20, edgecolor='black', color='green')\n",
        "plt.title('Histogram of Life Expectancy', fontsize=16)\n",
        "plt.xlabel('Life Expectancy', fontsize=14)\n",
        "plt.ylabel('Frequency', fontsize=14)\n",
        "plt.grid(True, linestyle='--', alpha=0.7)\n",
        "plt.show()"
      ],
      "metadata": {
        "colab": {
          "base_uri": "https://localhost:8080/",
          "height": 571
        },
        "id": "STHcPa1jh7Vz",
        "outputId": "5be49f85-9edf-4986-e069-e4d9bf16f81d"
      },
      "execution_count": 21,
      "outputs": [
        {
          "output_type": "display_data",
          "data": {
            "text/plain": [
              "<Figure size 1000x600 with 1 Axes>"
            ],
            "image/png": "[encoded data removed]"
          },
          "metadata": {}
        }
      ]
    },
    {
      "cell_type": "markdown",
      "source": [
        "The majority of life expectancy values cluster between 60 and 80 years, with a prominent peak around 70-75 years, indicating that most observations fall within this range. There is a gradual decline in frequency as life expectancy increases beyond 80 years or decreases below 60 years. This distribution suggests that while most regions or populations have moderate to high life expectancies, there are fewer instances of extremely high or low life expectancies."
      ],
      "metadata": {
        "id": "LZ3iadTEmZEO"
      }
    },
    {
      "cell_type": "markdown",
      "source": [
        "# Data Scaling"
      ],
      "metadata": {
        "id": "lD6gVCWGUV8z"
      }
    },
    {
      "cell_type": "code",
      "source": [
        "# Drop the \"country\" column and target variable from features\n",
        "X = data1.drop(columns=[\"Country\", target])\n",
        "\n",
        "# Extract the target variable\n",
        "y = data1[target]\n",
        "\n",
        "# Scale the features\n",
        "scaler = StandardScaler()\n",
        "X = scaler.fit_transform(X)\n",
        "\n",
        "# Split into training and testing sets\n",
        "X_train, X_test, y_train, y_test = train_test_split(X, y, test_size=0.2, random_state=42)"
      ],
      "metadata": {
        "id": "5Rhm3nHmlsCP"
      },
      "execution_count": 22,
      "outputs": []
    },
    {
      "cell_type": "code",
      "source": [
        "print(X_train.shape)\n",
        "print(X_test.shape)\n",
        "print(y_train.shape)\n",
        "print(y_test.shape)"
      ],
      "metadata": {
        "colab": {
          "base_uri": "https://localhost:8080/"
        },
        "id": "f7K-yzWGlr_g",
        "outputId": "51e9722f-5ac1-4339-b115-42364dfdb13c"
      },
      "execution_count": 23,
      "outputs": [
        {
          "output_type": "stream",
          "name": "stdout",
          "text": [
            "(2342, 18)\n",
            "(586, 18)\n",
            "(2342,)\n",
            "(586,)\n"
          ]
        }
      ]
    },
    {
      "cell_type": "markdown",
      "source": [
        "# --- Model Training ---"
      ],
      "metadata": {
        "id": "3sfwbvqnUtDS"
      }
    },
    {
      "cell_type": "code",
      "source": [
        "# Linear Regression:\n",
        "linear_model = LinearRegression()\n",
        "linear_model.fit(X_train, y_train)\n",
        "y_pred_linear = linear_model.predict(X_test)\n",
        "\n",
        "# Ridge Regression:\n",
        "ridge_model = Ridge()\n",
        "ridge_model.fit(X_train, y_train)\n",
        "y_pred_ridge = ridge_model.predict(X_test)\n",
        "\n",
        "# Elastic Net:\n",
        "elastic_net_model = ElasticNet()\n",
        "elastic_net_model.fit(X_train, y_train)\n",
        "y_pred_elastic = elastic_net_model.predict(X_test)\n"
      ],
      "metadata": {
        "id": "vyoenxqlniQJ"
      },
      "execution_count": 24,
      "outputs": []
    },
    {
      "cell_type": "markdown",
      "source": [
        "#  Model Evaluation ---"
      ],
      "metadata": {
        "id": "M8eRwoPoUvvS"
      }
    },
    {
      "cell_type": "code",
      "source": [
        "#### Evaluation Metrics: ####\n",
        "def evaluate_model(y_true, y_pred, model_name=\"Model\"):\n",
        "    mse = mean_squared_error(y_true, y_pred)\n",
        "    r2 = r2_score(y_true, y_pred)\n",
        "    print(f\"\\n{model_name}:\")\n",
        "    print(\"Mean Squared Error:\", mse)\n",
        "    print(\"R-squared:\", r2)\n",
        "    return mse, r2"
      ],
      "metadata": {
        "id": "dsM2_7arnx32"
      },
      "execution_count": 25,
      "outputs": []
    },
    {
      "cell_type": "code",
      "source": [
        "# Cross-Validation\n",
        "\n",
        "def cross_validate_model(model, X, y, cv=5):  # Changed cv to 5 for k-fold\n",
        "    kf = KFold(n_splits=cv, shuffle=True, random_state=42)  # Specify k-fold\n",
        "    mse_scores = cross_val_score(model, X, y, cv=kf, scoring='neg_mean_squared_error')\n",
        "    r2_scores = cross_val_score(model, X, y, cv=kf, scoring='r2')\n",
        "\n",
        "    # Convert to positive MSE:\n",
        "    mse_scores = -mse_scores\n",
        "    print(\"\\nCross-Validation Results:\")\n",
        "    print(f\"Mean MSE: {np.mean(mse_scores):.4f}\")\n",
        "    print(f\"Mean R-squared: {np.mean(r2_scores):.4f}\")\n",
        "    return np.mean(mse_scores), np.mean(r2_scores)"
      ],
      "metadata": {
        "id": "S8XkbyIqn_-o"
      },
      "execution_count": 26,
      "outputs": []
    },
    {
      "cell_type": "code",
      "source": [
        "# Evaluate and Cross-Validate Linear Regression:\n",
        "mse_linear, r2_linear = evaluate_model(y_test, y_pred_linear, \"Linear Regression\")\n",
        "cross_validate_model(LinearRegression(), X, y)\n"
      ],
      "metadata": {
        "colab": {
          "base_uri": "https://localhost:8080/"
        },
        "id": "9lM5hETsoBSY",
        "outputId": "bf00b8b8-07e9-4ed7-a979-ee20f24d2167"
      },
      "execution_count": 27,
      "outputs": [
        {
          "output_type": "stream",
          "name": "stdout",
          "text": [
            "\n",
            "Linear Regression:\n",
            "Mean Squared Error: 17.271134576501836\n",
            "R-squared: 0.8003323247012447\n",
            "\n",
            "Cross-Validation Results:\n",
            "Mean MSE: 18.0662\n",
            "Mean R-squared: 0.7998\n"
          ]
        },
        {
          "output_type": "execute_result",
          "data": {
            "text/plain": [
              "(18.066185870622974, 0.799762048957402)"
            ]
          },
          "metadata": {},
          "execution_count": 27
        }
      ]
    },
    {
      "cell_type": "markdown",
      "source": [
        "The Linear Regression model explains about 80% of the variance in life expectancy with an R-squared of 0.80. The Mean Squared Error (MSE) is 17.27, indicating reasonable prediction accuracy.\n",
        "\n",
        "Cross-validation results show similar performance, with a mean MSE of 18.07 and an R-squared of 0.80. Overall, the model performs well, generalizing effectively to new data."
      ],
      "metadata": {
        "id": "-PHTJmqE2Dgh"
      }
    },
    {
      "cell_type": "code",
      "source": [
        "# Evaluate and Cross-Validate Ridge Regression:\n",
        "mse_ridge, r2_ridge = evaluate_model(y_test, y_pred_ridge, \"Ridge Regression\")\n",
        "cross_validate_model(Ridge(), X, y)  # added () to the function for correct function name\n"
      ],
      "metadata": {
        "colab": {
          "base_uri": "https://localhost:8080/"
        },
        "id": "RpD_sS-ToO1P",
        "outputId": "ef8aa721-19ea-4d40-b513-7ccbd9c76fa7"
      },
      "execution_count": 28,
      "outputs": [
        {
          "output_type": "stream",
          "name": "stdout",
          "text": [
            "\n",
            "Ridge Regression:\n",
            "Mean Squared Error: 17.28527684860237\n",
            "R-squared: 0.8001688290964106\n",
            "\n",
            "Cross-Validation Results:\n",
            "Mean MSE: 18.0642\n",
            "Mean R-squared: 0.7998\n"
          ]
        },
        {
          "output_type": "execute_result",
          "data": {
            "text/plain": [
              "(18.06423584021452, 0.799784059680626)"
            ]
          },
          "metadata": {},
          "execution_count": 28
        }
      ]
    },
    {
      "cell_type": "markdown",
      "source": [
        "The Ridge model performs similarly to Linear Regression an R-squared of 0.80, indicating it explains about 80% of the variance in life expectancy. The Mean Squared Error (MSE) is 17.29, showing a similar level of prediction accuracy as the Linear Regression model."
      ],
      "metadata": {
        "id": "B8I-l21D2a7w"
      }
    },
    {
      "cell_type": "code",
      "source": [
        "# Evaluate and Cross-Validate Elastic Net:\n",
        "mse_elastic, r2_elastic = evaluate_model(y_test, y_pred_elastic, \"Elastic Net\")\n",
        "cross_validate_model(ElasticNet(), X, y)"
      ],
      "metadata": {
        "colab": {
          "base_uri": "https://localhost:8080/"
        },
        "id": "Q6PH0Mh7oOu-",
        "outputId": "c8b1b3aa-1fa5-460f-ad44-df3fa832a27f"
      },
      "execution_count": 29,
      "outputs": [
        {
          "output_type": "stream",
          "name": "stdout",
          "text": [
            "\n",
            "Elastic Net:\n",
            "Mean Squared Error: 20.891277543518967\n",
            "R-squared: 0.7584806717440102\n",
            "\n",
            "Cross-Validation Results:\n",
            "Mean MSE: 22.5819\n",
            "Mean R-squared: 0.7500\n"
          ]
        },
        {
          "output_type": "execute_result",
          "data": {
            "text/plain": [
              "(22.581945285917335, 0.7500180123164025)"
            ]
          },
          "metadata": {},
          "execution_count": 29
        }
      ]
    },
    {
      "cell_type": "markdown",
      "source": [
        "The Elastic Net model has a slightly lower performance compared to both Linear and Ridge Regression, with an R-squared of 0.758, meaning it explains around 75.8% of the variance in life expectancy. The Mean Squared Error (MSE) is higher at 20.89, indicating somewhat less accurate predictions.\n",
        "\n",
        "Cross-validation results show a mean MSE of 22.58 and an R-squared of 0.75, which also reflects slightly weaker performance relative to the other models"
      ],
      "metadata": {
        "id": "8YRI7d7v2waN"
      }
    },
    {
      "cell_type": "markdown",
      "source": [
        "# --- Model Comparison & Interpretation --"
      ],
      "metadata": {
        "id": "JfdVK5cJyqMY"
      }
    },
    {
      "cell_type": "code",
      "source": [
        "# Bar plot for MSE comparison:\n",
        "model_names = ['Linear Regression', 'Ridge Regression', 'Elastic Net']\n",
        "mse_values = [mse_linear, mse_ridge, mse_elastic]\n",
        "plt.figure(figsize=(10, 6))\n",
        "sns.barplot(x=model_names, y=mse_values)\n",
        "plt.ylabel(\"Mean Squared Error\")\n",
        "plt.title(\"Comparison of MSE for Different Regression Models\")\n",
        "plt.show()"
      ],
      "metadata": {
        "colab": {
          "base_uri": "https://localhost:8080/",
          "height": 545
        },
        "id": "b3jAJoa8oqUl",
        "outputId": "bbfc0ec7-198b-4cec-dad8-4ed9418d4bec"
      },
      "execution_count": 30,
      "outputs": [
        {
          "output_type": "display_data",
          "data": {
            "text/plain": [
              "<Figure size 1000x600 with 1 Axes>"
            ],
            "image/png": "[encoded data removed]"
          },
          "metadata": {}
        }
      ]
    },
    {
      "cell_type": "markdown",
      "source": [
        " Linear and Ridge Regression show similar performance with MSE values around 17, while Elastic Net performs notably worse with an MSE of approximately 20. The lower MSE values for Linear and Ridge Regression suggest they are more accurate models for this particular dataset."
      ],
      "metadata": {
        "id": "5Z4rLz1pyIBi"
      }
    },
    {
      "cell_type": "code",
      "source": [
        "# Adding an intercept column to X for statsmodels\n",
        "X_with_intercept = sm.add_constant(X)\n",
        "\n",
        "# Fit the OLS model (Ordinary Least Squares) for Linear Regression\n",
        "ols_model = sm.OLS(y, X_with_intercept).fit()\n",
        "\n",
        "# Print full statistical summary for Linear Regression\n",
        "print(\"\\n=== Linear Regression Summary ===\")\n",
        "print(ols_model.summary())\n",
        "\n",
        "column_names = ['Year',\n",
        " 'Status',\n",
        " 'Adult Mortality',\n",
        " 'infant deaths',\n",
        " 'Alcohol',\n",
        " 'Hepatitis B',\n",
        " 'Measles ',\n",
        " ' BMI ',\n",
        " 'under-five deaths ',\n",
        " 'Polio',\n",
        " 'Total expenditure',\n",
        " 'Diphtheria ',\n",
        " ' HIV/AIDS',\n",
        " 'GDP',\n",
        " 'Population',\n",
        " ' thinness  1-19 years',\n",
        " ' thinness 5-9 years',\n",
        " 'Income composition of resources'] # Replace with actual feature names\n",
        "\n",
        "# Convert X to DataFrame with column names\n",
        "X_df = pd.DataFrame(X, columns=column_names)\n",
        "\n",
        "# Now your original code will work:\n",
        "coef_df = pd.DataFrame({\n",
        "    \"Linear\": linear_model.coef_,\n",
        "    \"Ridge\": ridge_model.coef_,\n",
        "    \"Elastic Net\": elastic_net_model.coef_\n",
        "}, index=X_df.columns)\n",
        "\n",
        "print(coef_df)\n",
        "\n",
        "# Print intercepts separately\n",
        "print(\"\\n=== Intercepts ===\")\n",
        "print(\"Linear Regression Intercept:\", linear_model.intercept_)\n",
        "print(\"Ridge Regression Intercept:\", ridge_model.intercept_)\n",
        "print(\"Elastic Net Intercept:\", elastic_net_model.intercept_)\n"
      ],
      "metadata": {
        "colab": {
          "base_uri": "https://localhost:8080/"
        },
        "id": "0Tnd-r9tujVq",
        "outputId": "2c320274-7efe-4ef5-c9dd-511c1f446518"
      },
      "execution_count": 33,
      "outputs": [
        {
          "output_type": "stream",
          "name": "stdout",
          "text": [
            "\n",
            "=== Linear Regression Summary ===\n",
            "                            OLS Regression Results                            \n",
            "==============================================================================\n",
            "Dep. Variable:       Life expectancy    R-squared:                       0.805\n",
            "Model:                            OLS   Adj. R-squared:                  0.804\n",
            "Method:                 Least Squares   F-statistic:                     666.4\n",
            "Date:                Sat, 08 Feb 2025   Prob (F-statistic):               0.00\n",
            "Time:                        18:06:54   Log-Likelihood:                -8361.3\n",
            "No. Observations:                2928   AIC:                         1.676e+04\n",
            "Df Residuals:                    2909   BIC:                         1.687e+04\n",
            "Df Model:                          18                                         \n",
            "Covariance Type:            nonrobust                                         \n",
            "==============================================================================\n",
            "                 coef    std err          t      P>|t|      [0.025      0.975]\n",
            "------------------------------------------------------------------------------\n",
            "const         69.2249      0.078    887.530      0.000      69.072      69.378\n",
            "x1             0.0625      0.083      0.755      0.450      -0.100       0.225\n",
            "x2            -2.6117      0.103    -25.452      0.000      -2.813      -2.411\n",
            "x3            12.2678      1.037     11.835      0.000      10.235      14.300\n",
            "x4             0.5545      0.104      5.312      0.000       0.350       0.759\n",
            "x5            -0.3448      0.092     -3.751      0.000      -0.525      -0.165\n",
            "x6            -0.1825      0.092     -1.991      0.047      -0.362      -0.003\n",
            "x7             1.0867      0.102     10.698      0.000       0.887       1.286\n",
            "x8           -12.5911      1.033    -12.184      0.000     -14.617     -10.565\n",
            "x9             0.7811      0.108      7.208      0.000       0.569       0.994\n",
            "x10            0.2132      0.085      2.501      0.012       0.046       0.380\n",
            "x11            1.0196      0.116      8.799      0.000       0.792       1.247\n",
            "x12           -2.3314      0.093    -24.949      0.000      -2.515      -2.148\n",
            "x13            0.6673      0.092      7.264      0.000       0.487       0.847\n",
            "x14            0.0468      0.095      0.492      0.622      -0.140       0.233\n",
            "x15           -0.4560      0.231     -1.976      0.048      -0.908      -0.004\n",
            "x16            0.0799      0.232      0.345      0.730      -0.375       0.535\n",
            "x17            2.3945      0.111     21.627      0.000       2.177       2.612\n",
            "x18           -0.7141      0.106     -6.714      0.000      -0.923      -0.506\n",
            "==============================================================================\n",
            "Omnibus:                      107.317   Durbin-Watson:                   0.730\n",
            "Prob(Omnibus):                  0.000   Jarque-Bera (JB):              290.959\n",
            "Skew:                          -0.111   Prob(JB):                     6.59e-64\n",
            "Kurtosis:                       4.528   Cond. No.                         42.5\n",
            "==============================================================================\n",
            "\n",
            "Notes:\n",
            "[1] Standard Errors assume that the covariance matrix of the errors is correctly specified.\n",
            "                                    Linear      Ridge  Elastic Net\n",
            "Year                              0.093988   0.091693     0.000000\n",
            "Status                           -2.665494  -2.673132    -2.019214\n",
            "Adult Mortality                  12.268394  10.639307    -0.000000\n",
            "infant deaths                     0.609564   0.589186     0.330447\n",
            "Alcohol                          -0.350754  -0.361146     0.000000\n",
            "Hepatitis B                      -0.306074  -0.314001    -0.063088\n",
            "Measles                           1.033907   1.036898     0.977142\n",
            " BMI                            -12.420227 -10.811527    -0.013609\n",
            "under-five deaths                 0.822272   0.833627     0.728331\n",
            "Polio                             0.174268   0.177128     0.000000\n",
            "Total expenditure                 0.992686   1.015990     0.851453\n",
            "Diphtheria                       -2.377617  -2.384440    -1.691848\n",
            " HIV/AIDS                         0.704470   0.698198     0.576744\n",
            "GDP                              -0.021881   0.009254     0.000000\n",
            "Population                       -0.500231  -0.514617    -0.434364\n",
            " thinness  1-19 years             0.015663   0.040504    -0.333686\n",
            " thinness 5-9 years               2.319792   2.342850     1.802918\n",
            "Income composition of resources  -0.669637  -0.669120    -0.660942\n",
            "\n",
            "=== Intercepts ===\n",
            "Linear Regression Intercept: 69.25998440289824\n",
            "Ridge Regression Intercept: 69.2585595076975\n",
            "Elastic Net Intercept: 69.22882067307877\n"
          ]
        }
      ]
    },
    {
      "cell_type": "markdown",
      "source": [
        "The Linear Regression model explains 80.5% of the variance in life expectancy (R² = 0.805), with several predictors significantly influencing the outcome. Variables like Adult Mortality, HIV/AIDS, and Income Composition of Resources have strong effects (p < 0.05), while others like GDP and thinness 5-9 years are less significant. The Durbin-Watson statistic (0.730) suggests potential autocorrelation in residuals. Comparing models, Ridge and Elastic Net shrink some coefficients, reducing overfitting, while maintaining key predictors like Status, Adult Mortality, and Diphtheria. The intercept remains consistent across models (~69.2), indicating stable baseline life expectancy."
      ],
      "metadata": {
        "id": "cq7hNJY2yhKw"
      }
    },
    {
      "cell_type": "markdown",
      "source": [
        "# ---Model Tuning"
      ],
      "metadata": {
        "id": "omtiqE3uymZI"
      }
    },
    {
      "cell_type": "code",
      "source": [
        "# Ridge Regression alpha tuning\n",
        "param_grid = {'alpha': [0.001, 0.01, 0.1, 1, 10, 100]}\n",
        "grid_search = GridSearchCV(Ridge(), param_grid, scoring='neg_mean_squared_error', cv=5)\n",
        "grid_search.fit(X_train, y_train)\n",
        "\n",
        "# Display the best alpha value\n",
        "print(\"\\nBest Ridge Alpha:\", grid_search.best_params_)\n",
        "\n",
        "# Get the best Ridge model\n",
        "best_ridge = grid_search.best_estimator_\n",
        "\n",
        "# Predict with the best Ridge model\n",
        "y_pred_best_ridge = best_ridge.predict(X_test)\n",
        "\n",
        "# Evaluate the best Ridge model\n",
        "mse_best_ridge, r2_best_ridge = evaluate_model(y_test, y_pred_best_ridge, \"Best Ridge Regression\")\n",
        "\n",
        "# Cross-validation for the best Ridge model\n",
        "cross_validate_model(best_ridge, X, y)\n"
      ],
      "metadata": {
        "colab": {
          "base_uri": "https://localhost:8080/"
        },
        "id": "h8ACnFKlzzvG",
        "outputId": "489c0dd4-4132-484d-b4c8-a59745f552d0"
      },
      "execution_count": 38,
      "outputs": [
        {
          "output_type": "stream",
          "name": "stdout",
          "text": [
            "\n",
            "Best Ridge Alpha: {'alpha': 1}\n",
            "\n",
            "Best Ridge Regression:\n",
            "Mean Squared Error: 17.28527684860237\n",
            "R-squared: 0.8001688290964106\n",
            "\n",
            "Cross-Validation Results:\n",
            "Mean MSE: 18.0642\n",
            "Mean R-squared: 0.7998\n"
          ]
        },
        {
          "output_type": "execute_result",
          "data": {
            "text/plain": [
              "(18.06423584021452, 0.799784059680626)"
            ]
          },
          "metadata": {},
          "execution_count": 38
        }
      ]
    },
    {
      "cell_type": "markdown",
      "source": [
        "The model found an optimal alpha value of 1 and achieved a Mean Squared Error of 17.29 with an R-squared value of 0.80 on the test set. Cross-validation results were similar, with a mean MSE of 18.06 and mean R-squared of 0.80, indicating consistent performance across different data splits and suggesting the model is robust without overfitting."
      ],
      "metadata": {
        "id": "h1Aqdd3n1CkV"
      }
    },
    {
      "cell_type": "code",
      "source": [
        "# Suppress ConvergenceWarning\n",
        "warnings.filterwarnings(\"ignore\", category=ConvergenceWarning)\n",
        "\n",
        "# Standardize features\n",
        "scaler = StandardScaler()\n",
        "X_train_scaled = scaler.fit_transform(X_train)\n",
        "\n",
        "# Define parameter grid for ElasticNet\n",
        "param_grid_elastic = {\n",
        "    'alpha': [0.00001, 0.0001, 0.001, 0.01, 0.1, 1, 10, 100],\n",
        "    'l1_ratio': [0.01, 0.1, 0.3, 0.5, 0.7, 0.9]\n",
        "}\n",
        "\n",
        "# Grid Search with increased iterations\n",
        "grid_search_elastic = GridSearchCV(\n",
        "    ElasticNet(max_iter=5000),  # More iterations for convergence\n",
        "    param_grid_elastic,\n",
        "    scoring='neg_mean_squared_error',\n",
        "    cv=5\n",
        ")\n",
        "grid_search_elastic.fit(X_train_scaled, y_train)\n",
        "\n",
        "# Display best parameters\n",
        "print(\"\\nBest Elastic Net Parameters:\", grid_search_elastic.best_params_)\n",
        "\n",
        "# Get the best ElasticNet model\n",
        "best_elastic = grid_search_elastic.best_estimator_\n",
        "\n",
        "# Predict with the best ElasticNet model\n",
        "y_pred_best_elastic = best_elastic.predict(X_test)\n",
        "\n",
        "# Evaluate model\n",
        "mse_best_elastic, r2_best_elastic = evaluate_model(y_test, y_pred_best_elastic, \"Best Elastic Net\")\n",
        "\n",
        "# Cross-validation\n",
        "cross_validate_model(best_elastic, X, y)\n"
      ],
      "metadata": {
        "colab": {
          "base_uri": "https://localhost:8080/"
        },
        "id": "q4Z_Tdds0K4_",
        "outputId": "2883c7cf-6875-4ddf-e7e4-5311b5c687ac"
      },
      "execution_count": 40,
      "outputs": [
        {
          "output_type": "stream",
          "name": "stdout",
          "text": [
            "\n",
            "Best Elastic Net Parameters: {'alpha': 0.001, 'l1_ratio': 0.7}\n",
            "\n",
            "Best Elastic Net:\n",
            "Mean Squared Error: 17.284686392982216\n",
            "R-squared: 0.8001756552201098\n",
            "\n",
            "Cross-Validation Results:\n",
            "Mean MSE: 18.0621\n",
            "Mean R-squared: 0.7998\n"
          ]
        },
        {
          "output_type": "execute_result",
          "data": {
            "text/plain": [
              "(18.06212773737324, 0.7998079366594005)"
            ]
          },
          "metadata": {},
          "execution_count": 40
        }
      ]
    },
    {
      "cell_type": "markdown",
      "source": [
        "The Elastic Net model's optimal performance was achieved with hyperparameters of alpha=0.001 and l1_ratio=0.7. The model demonstrated strong predictive ability with an MSE of 17.28 and an R-squared value of 0.80 on the test set. The cross-validation results were consistent with these findings, showing a mean MSE of 18.06 and mean R-squared of 0.80, which indicates the model is stable and generalizes well to unseen data."
      ],
      "metadata": {
        "id": "Ar2nXjAx1Sp6"
      }
    },
    {
      "cell_type": "markdown",
      "source": [
        "# 2. Deep Learning with CNN for Clothing Classification using Fashion-MNIST dataset."
      ],
      "metadata": {
        "id": "dg9s_noYutyM"
      }
    },
    {
      "cell_type": "code",
      "source": [
        "# Import necessary libraries for data processing, machine learning, and visualization\n",
        "import torch\n",
        "import torch.nn as nn\n",
        "import torch.optim as optim\n",
        "import torch.nn.functional as F\n",
        "import torchvision.transforms as transforms\n",
        "from torch.utils.data import DataLoader, Dataset\n",
        "import pandas as pd\n",
        "import numpy as np\n",
        "import matplotlib.pyplot as plt\n",
        "from sklearn.metrics import accuracy_score\n",
        "from tqdm import tqdm\n",
        "from PIL import Image\n"
      ],
      "metadata": {
        "id": "OieGGpCiP3Ys"
      },
      "execution_count": null,
      "outputs": []
    },
    {
      "cell_type": "code",
      "source": [
        "# Set device to GPU if available, otherwise fallback to CPU\n",
        "device = torch.device(\"cuda\" if torch.cuda.is_available() else \"cpu\")\n",
        "print(f\"Using device: {device}\")  # Print the chosen device"
      ],
      "metadata": {
        "colab": {
          "base_uri": "https://localhost:8080/"
        },
        "id": "-jljdGEJP_4Q",
        "outputId": "db54f8f8-69d5-4896-fef2-1e9409fcb5db"
      },
      "execution_count": null,
      "outputs": [
        {
          "output_type": "stream",
          "name": "stdout",
          "text": [
            "Using device: cuda\n"
          ]
        }
      ]
    },
    {
      "cell_type": "code",
      "source": [
        "# Define custom dataset class to load FashionMNIST data from CSV file\n",
        "class FashionMNISTDataset(Dataset):\n",
        "    def __init__(self, csv_file, transform=None):\n",
        "        # Load data from CSV file\n",
        "        self.data = pd.read_csv(csv_file)\n",
        "        self.transform = transform\n",
        "        # Reshape image data (28x28) and labels from the CSV\n",
        "        self.images = self.data.iloc[:, 1:].values.reshape(-1, 28, 28).astype(np.uint8)\n",
        "        self.labels = self.data.iloc[:, 0].values\n",
        "\n",
        "    def __len__(self):\n",
        "        # Return the total number of samples\n",
        "        return len(self.data)\n",
        "\n",
        "    def __getitem__(self, idx):\n",
        "        # Retrieve the image and label for a given index\n",
        "        image = self.images[idx]\n",
        "        label = self.labels[idx]\n",
        "        # Apply transformations (if any) on the image\n",
        "        if self.transform:\n",
        "            image = self.transform(image)\n",
        "        return image, label\n"
      ],
      "metadata": {
        "id": "yy1HtUgAQEPf"
      },
      "execution_count": null,
      "outputs": []
    },
    {
      "cell_type": "code",
      "source": [
        "# Define a simple CNN model\n",
        "class SimpleLeNet(nn.Module):\n",
        "    def __init__(self):\n",
        "        super(SimpleLeNet, self).__init__()\n",
        "        # First convolutional layer (input: 1 channel, output: 4 channels)\n",
        "        self.conv1 = nn.Conv2d(1, 4, kernel_size=5)\n",
        "        # Second convolutional layer (input: 4 channels, output: 8 channels)\n",
        "        self.conv2 = nn.Conv2d(4, 8, kernel_size=5)\n",
        "        # Fully connected layers (input size reduced for simplicity)\n",
        "        self.fc1 = nn.Linear(8 * 4 * 4, 64)\n",
        "        self.fc2 = nn.Linear(64, 10)  # 10 output classes\n",
        "\n",
        "    def forward(self, x):\n",
        "        # Forward pass through the model layers\n",
        "        x = F.relu(self.conv1(x))  # ReLU activation after first convolution\n",
        "        x = F.max_pool2d(x, kernel_size=2)  # Max pooling layer\n",
        "        x = F.relu(self.conv2(x))  # ReLU activation after second convolution\n",
        "        x = F.max_pool2d(x, kernel_size=2)  # Max pooling layer\n",
        "        x = torch.flatten(x, 1)  # Flatten the tensor for the fully connected layers\n",
        "        x = F.relu(self.fc1(x))  # ReLU activation after first fully connected layer\n",
        "        x = self.fc2(x)  # Final output layer\n",
        "        return x\n"
      ],
      "metadata": {
        "id": "Bd1Q9IsvQJ_M"
      },
      "execution_count": null,
      "outputs": []
    },
    {
      "cell_type": "code",
      "source": [
        "# Define different image augmentations for data augmentation\n",
        "aug_transforms = [\n",
        "    transforms.Compose([  # Horizontal flip\n",
        "        transforms.ToPILImage(),\n",
        "        transforms.RandomHorizontalFlip(p=0.5),\n",
        "        transforms.ToTensor(),\n",
        "        transforms.Normalize((0.5,), (0.5,))\n",
        "    ]),\n",
        "    transforms.Compose([  # Random rotation\n",
        "        transforms.ToPILImage(),\n",
        "        transforms.RandomRotation(degrees=15),\n",
        "        transforms.ToTensor(),\n",
        "        transforms.Normalize((0.5,), (0.5,))\n",
        "    ]),\n",
        "    transforms.Compose([  # Random affine transformation (translation only)\n",
        "        transforms.ToPILImage(),\n",
        "        transforms.RandomAffine(degrees=0, translate=(0.2, 0.2)),\n",
        "        transforms.ToTensor(),\n",
        "        transforms.Normalize((0.5,), (0.5,))\n",
        "    ]),\n",
        "    transforms.Compose([  # Random resized crop\n",
        "        transforms.ToPILImage(),\n",
        "        transforms.RandomResizedCrop(28, scale=(0.8, 1.2), ratio=(0.75, 1.33)),\n",
        "        transforms.ToTensor(),\n",
        "        transforms.Normalize((0.5,), (0.5,))\n",
        "    ]),\n",
        "    transforms.Compose([  # Color jitter (brightness and contrast adjustment)\n",
        "        transforms.ToPILImage(),\n",
        "        transforms.ColorJitter(brightness=0.5, contrast=0.5),\n",
        "        transforms.ToTensor(),\n",
        "        transforms.Normalize((0.5,), (0.5,))\n",
        "    ])\n",
        "]\n"
      ],
      "metadata": {
        "id": "xc4jl3BsQq8v"
      },
      "execution_count": null,
      "outputs": []
    },
    {
      "cell_type": "code",
      "source": [
        "# List of learning rates to test during the experiments\n",
        "learning_rates = [0.001, 0.0005, 0.0001, 0.005, 0.002]"
      ],
      "metadata": {
        "id": "JAlW1qW4Q5hA"
      },
      "execution_count": null,
      "outputs": []
    },
    {
      "cell_type": "code",
      "source": [
        "# Function to train the model on the training data\n",
        "def train_model(model, train_loader, criterion, optimizer, epochs=15):\n",
        "    model.train()  # Set model to training mode\n",
        "    epoch_losses = []\n",
        "\n",
        "    # Loop over epochs\n",
        "    for epoch in range(epochs):\n",
        "        running_loss = 0.0\n",
        "        # Loop over batches in the training dataset\n",
        "        for images, labels in tqdm(train_loader, desc=f\"Epoch {epoch+1}/{epochs}\"):\n",
        "            images, labels = images.to(device), labels.to(device)  # Move data to GPU\n",
        "\n",
        "            optimizer.zero_grad()  # Zero out the gradients\n",
        "            outputs = model(images)  # Perform forward pass\n",
        "            loss = criterion(outputs, labels)  # Compute loss\n",
        "            loss.backward()  # Backpropagate the gradients\n",
        "            optimizer.step()  # Update model parameters\n",
        "            running_loss += loss.item()  # Accumulate loss\n",
        "\n",
        "        # Compute the average loss for the epoch\n",
        "        epoch_loss = running_loss / len(train_loader)\n",
        "        epoch_losses.append(epoch_loss)\n",
        "        print(f\"Epoch {epoch+1}/{epochs}, Loss: {epoch_loss:.4f}\")\n",
        "\n",
        "    return sum(epoch_losses) / len(epoch_losses)  # Return the average loss over all epochs\n"
      ],
      "metadata": {
        "id": "j7iK6gfnQ6Ku"
      },
      "execution_count": null,
      "outputs": []
    },
    {
      "cell_type": "code",
      "source": [
        "# Function to evaluate the model on the test data\n",
        "def evaluate_model(model, test_loader, criterion):\n",
        "    model.eval()  # Set model to evaluation mode\n",
        "    all_preds, all_labels = [], []  # To store predictions and true labels\n",
        "    total_loss = 0.0\n",
        "\n",
        "    with torch.no_grad():  # Disable gradient tracking for evaluation\n",
        "        # Loop over batches in the test dataset\n",
        "        for images, labels in test_loader:\n",
        "            images, labels = images.to(device), labels.to(device)  # Move data to GPU\n",
        "\n",
        "            outputs = model(images)  # Perform forward pass\n",
        "            loss = criterion(outputs, labels)  # Compute loss\n",
        "            total_loss += loss.item()  # Accumulate loss\n",
        "\n",
        "            _, predicted = torch.max(outputs, 1)  # Get the predicted class\n",
        "            all_preds.extend(predicted.cpu().numpy())  # Store predictions\n",
        "            all_labels.extend(labels.cpu().numpy())  # Store true labels\n",
        "\n",
        "    # Compute accuracy and average loss\n",
        "    accuracy = accuracy_score(all_labels, all_preds) * 100\n",
        "    avg_loss = total_loss / len(test_loader)\n",
        "\n",
        "    return avg_loss, accuracy\n"
      ],
      "metadata": {
        "id": "sLP_FxyJQ6IB"
      },
      "execution_count": null,
      "outputs": []
    },
    {
      "cell_type": "code",
      "source": [
        "# Load the test dataset with appropriate transformations\n",
        "test_dataset = FashionMNISTDataset('/content/drive/MyDrive/DDO/mnist_fashion_test.csv', transforms.Compose([\n",
        "    transforms.ToPILImage(),\n",
        "    transforms.ToTensor(),\n",
        "    transforms.Normalize((0.5,), (0.5,))\n",
        "]))\n",
        "test_loader = DataLoader(test_dataset, batch_size=64, shuffle=False)  # DataLoader for test set\n"
      ],
      "metadata": {
        "id": "yhIapLlhQ6F2"
      },
      "execution_count": null,
      "outputs": []
    },
    {
      "cell_type": "code",
      "source": [
        "# List to store results of all experiments\n",
        "experiments = []\n",
        "\n",
        "# Run experiments with no augmentation\n",
        "for i, lr in enumerate(learning_rates):\n",
        "    print(f\"Starting No Augmentation Experiment {i+1} with learning rate {lr}\")\n",
        "    # Define the dataset and DataLoader for training\n",
        "    train_dataset = FashionMNISTDataset('/content/drive/MyDrive/DDO/mnist_fashion_train.csv', transforms.Compose([\n",
        "        transforms.ToPILImage(),\n",
        "        transforms.ToTensor(),\n",
        "        transforms.Normalize((0.5,), (0.5,))\n",
        "    ]))\n",
        "    train_loader = DataLoader(train_dataset, batch_size=64, shuffle=True)\n",
        "    model = SimpleLeNet().to(device)  # Initialize and move model to GPU\n",
        "    criterion = nn.CrossEntropyLoss()  # Define the loss function\n",
        "    optimizer = optim.Adam(model.parameters(), lr=lr)  # Define the optimizer\n",
        "\n",
        "    # Train and evaluate the model\n",
        "    train_loss = train_model(model, train_loader, criterion, optimizer)\n",
        "    test_loss, acc = evaluate_model(model, test_loader, criterion)\n",
        "    experiments.append({'Experiment': f'No Aug {i+1}', 'Learning Rate': lr, 'Train Loss': train_loss, 'Test Loss': test_loss, 'Accuracy': acc})\n",
        "    print(f\"Finished No Augmentation Experiment {i+1}\")\n",
        "\n",
        "# Run experiments with augmentations (limit to 5)\n",
        "for i, transform in enumerate(aug_transforms[:5]):\n",
        "    print(f\"Starting Augmentation Experiment {i+1}\")\n",
        "    train_dataset = FashionMNISTDataset('/content/drive/MyDrive/DDO/mnist_fashion_train.csv', transform)\n",
        "    train_loader = DataLoader(train_dataset, batch_size=64, shuffle=True)\n",
        "    model = SimpleLeNet().to(device)\n",
        "    criterion = nn.CrossEntropyLoss()\n",
        "    optimizer = optim.Adam(model.parameters(), lr=0.001)\n",
        "\n",
        "    # Train and evaluate the model\n",
        "    train_loss = train_model(model, train_loader, criterion, optimizer)\n",
        "    test_loss, acc = evaluate_model(model, test_loader, criterion)\n",
        "    experiments.append({'Experiment': f'Aug {i+1}', 'Transformation': str(transform), 'Train Loss': train_loss, 'Test Loss': test_loss, 'Accuracy': acc})\n",
        "    print(f\"Finished Augmentation Experiment {i+1}\")\n"
      ],
      "metadata": {
        "colab": {
          "base_uri": "https://localhost:8080/"
        },
        "id": "687vAMehRSwW",
        "outputId": "d2d9255a-91a4-41b9-dcf9-ebd950601753"
      },
      "execution_count": null,
      "outputs": [
        {
          "output_type": "stream",
          "name": "stdout",
          "text": [
            "Starting No Augmentation Experiment 1 with learning rate 0.001\n"
          ]
        },
        {
          "output_type": "stream",
          "name": "stderr",
          "text": [
            "Epoch 1/15: 100%|██████████| 938/938 [00:19<00:00, 48.79it/s]\n"
          ]
        },
        {
          "output_type": "stream",
          "name": "stdout",
          "text": [
            "Epoch 1/15, Loss: 0.6804\n"
          ]
        },
        {
          "output_type": "stream",
          "name": "stderr",
          "text": [
            "Epoch 2/15: 100%|██████████| 938/938 [00:23<00:00, 40.78it/s]\n"
          ]
        },
        {
          "output_type": "stream",
          "name": "stdout",
          "text": [
            "Epoch 2/15, Loss: 0.4762\n"
          ]
        },
        {
          "output_type": "stream",
          "name": "stderr",
          "text": [
            "Epoch 3/15: 100%|██████████| 938/938 [00:17<00:00, 53.66it/s]\n"
          ]
        },
        {
          "output_type": "stream",
          "name": "stdout",
          "text": [
            "Epoch 3/15, Loss: 0.4235\n"
          ]
        },
        {
          "output_type": "stream",
          "name": "stderr",
          "text": [
            "Epoch 4/15: 100%|██████████| 938/938 [00:16<00:00, 55.27it/s]\n"
          ]
        },
        {
          "output_type": "stream",
          "name": "stdout",
          "text": [
            "Epoch 4/15, Loss: 0.3926\n"
          ]
        },
        {
          "output_type": "stream",
          "name": "stderr",
          "text": [
            "Epoch 5/15: 100%|██████████| 938/938 [00:17<00:00, 53.89it/s]\n"
          ]
        },
        {
          "output_type": "stream",
          "name": "stdout",
          "text": [
            "Epoch 5/15, Loss: 0.3708\n"
          ]
        },
        {
          "output_type": "stream",
          "name": "stderr",
          "text": [
            "Epoch 6/15: 100%|██████████| 938/938 [00:17<00:00, 53.34it/s]\n"
          ]
        },
        {
          "output_type": "stream",
          "name": "stdout",
          "text": [
            "Epoch 6/15, Loss: 0.3550\n"
          ]
        },
        {
          "output_type": "stream",
          "name": "stderr",
          "text": [
            "Epoch 7/15: 100%|██████████| 938/938 [00:16<00:00, 55.90it/s]\n"
          ]
        },
        {
          "output_type": "stream",
          "name": "stdout",
          "text": [
            "Epoch 7/15, Loss: 0.3412\n"
          ]
        },
        {
          "output_type": "stream",
          "name": "stderr",
          "text": [
            "Epoch 8/15: 100%|██████████| 938/938 [00:16<00:00, 55.69it/s]\n"
          ]
        },
        {
          "output_type": "stream",
          "name": "stdout",
          "text": [
            "Epoch 8/15, Loss: 0.3313\n"
          ]
        },
        {
          "output_type": "stream",
          "name": "stderr",
          "text": [
            "Epoch 9/15: 100%|██████████| 938/938 [00:17<00:00, 54.94it/s]\n"
          ]
        },
        {
          "output_type": "stream",
          "name": "stdout",
          "text": [
            "Epoch 9/15, Loss: 0.3229\n"
          ]
        },
        {
          "output_type": "stream",
          "name": "stderr",
          "text": [
            "Epoch 10/15: 100%|██████████| 938/938 [00:17<00:00, 52.35it/s]\n"
          ]
        },
        {
          "output_type": "stream",
          "name": "stdout",
          "text": [
            "Epoch 10/15, Loss: 0.3133\n"
          ]
        },
        {
          "output_type": "stream",
          "name": "stderr",
          "text": [
            "Epoch 11/15: 100%|██████████| 938/938 [00:23<00:00, 39.25it/s]\n"
          ]
        },
        {
          "output_type": "stream",
          "name": "stdout",
          "text": [
            "Epoch 11/15, Loss: 0.3072\n"
          ]
        },
        {
          "output_type": "stream",
          "name": "stderr",
          "text": [
            "Epoch 12/15: 100%|██████████| 938/938 [00:19<00:00, 48.33it/s]\n"
          ]
        },
        {
          "output_type": "stream",
          "name": "stdout",
          "text": [
            "Epoch 12/15, Loss: 0.3013\n"
          ]
        },
        {
          "output_type": "stream",
          "name": "stderr",
          "text": [
            "Epoch 13/15: 100%|██████████| 938/938 [00:16<00:00, 55.22it/s]\n"
          ]
        },
        {
          "output_type": "stream",
          "name": "stdout",
          "text": [
            "Epoch 13/15, Loss: 0.2956\n"
          ]
        },
        {
          "output_type": "stream",
          "name": "stderr",
          "text": [
            "Epoch 14/15: 100%|██████████| 938/938 [00:16<00:00, 56.18it/s]\n"
          ]
        },
        {
          "output_type": "stream",
          "name": "stdout",
          "text": [
            "Epoch 14/15, Loss: 0.2892\n"
          ]
        },
        {
          "output_type": "stream",
          "name": "stderr",
          "text": [
            "Epoch 15/15: 100%|██████████| 938/938 [00:17<00:00, 53.89it/s]\n"
          ]
        },
        {
          "output_type": "stream",
          "name": "stdout",
          "text": [
            "Epoch 15/15, Loss: 0.2852\n",
            "Finished No Augmentation Experiment 1\n",
            "Starting No Augmentation Experiment 2 with learning rate 0.0005\n"
          ]
        },
        {
          "output_type": "stream",
          "name": "stderr",
          "text": [
            "Epoch 1/15: 100%|██████████| 938/938 [00:19<00:00, 49.02it/s]\n"
          ]
        },
        {
          "output_type": "stream",
          "name": "stdout",
          "text": [
            "Epoch 1/15, Loss: 0.7640\n"
          ]
        },
        {
          "output_type": "stream",
          "name": "stderr",
          "text": [
            "Epoch 2/15: 100%|██████████| 938/938 [00:19<00:00, 48.89it/s]\n"
          ]
        },
        {
          "output_type": "stream",
          "name": "stdout",
          "text": [
            "Epoch 2/15, Loss: 0.5014\n"
          ]
        },
        {
          "output_type": "stream",
          "name": "stderr",
          "text": [
            "Epoch 3/15: 100%|██████████| 938/938 [00:18<00:00, 51.22it/s]\n"
          ]
        },
        {
          "output_type": "stream",
          "name": "stdout",
          "text": [
            "Epoch 3/15, Loss: 0.4497\n"
          ]
        },
        {
          "output_type": "stream",
          "name": "stderr",
          "text": [
            "Epoch 4/15: 100%|██████████| 938/938 [00:18<00:00, 51.11it/s]\n"
          ]
        },
        {
          "output_type": "stream",
          "name": "stdout",
          "text": [
            "Epoch 4/15, Loss: 0.4151\n"
          ]
        },
        {
          "output_type": "stream",
          "name": "stderr",
          "text": [
            "Epoch 5/15: 100%|██████████| 938/938 [00:19<00:00, 49.19it/s]\n"
          ]
        },
        {
          "output_type": "stream",
          "name": "stdout",
          "text": [
            "Epoch 5/15, Loss: 0.3932\n"
          ]
        },
        {
          "output_type": "stream",
          "name": "stderr",
          "text": [
            "Epoch 6/15: 100%|██████████| 938/938 [00:18<00:00, 50.59it/s]\n"
          ]
        },
        {
          "output_type": "stream",
          "name": "stdout",
          "text": [
            "Epoch 6/15, Loss: 0.3763\n"
          ]
        },
        {
          "output_type": "stream",
          "name": "stderr",
          "text": [
            "Epoch 7/15: 100%|██████████| 938/938 [00:16<00:00, 56.69it/s]\n"
          ]
        },
        {
          "output_type": "stream",
          "name": "stdout",
          "text": [
            "Epoch 7/15, Loss: 0.3638\n"
          ]
        },
        {
          "output_type": "stream",
          "name": "stderr",
          "text": [
            "Epoch 8/15: 100%|██████████| 938/938 [00:16<00:00, 55.88it/s]\n"
          ]
        },
        {
          "output_type": "stream",
          "name": "stdout",
          "text": [
            "Epoch 8/15, Loss: 0.3538\n"
          ]
        },
        {
          "output_type": "stream",
          "name": "stderr",
          "text": [
            "Epoch 9/15: 100%|██████████| 938/938 [00:17<00:00, 52.86it/s]\n"
          ]
        },
        {
          "output_type": "stream",
          "name": "stdout",
          "text": [
            "Epoch 9/15, Loss: 0.3456\n"
          ]
        },
        {
          "output_type": "stream",
          "name": "stderr",
          "text": [
            "Epoch 10/15: 100%|██████████| 938/938 [00:17<00:00, 54.59it/s]\n"
          ]
        },
        {
          "output_type": "stream",
          "name": "stdout",
          "text": [
            "Epoch 10/15, Loss: 0.3379\n"
          ]
        },
        {
          "output_type": "stream",
          "name": "stderr",
          "text": [
            "Epoch 11/15: 100%|██████████| 938/938 [00:16<00:00, 55.85it/s]\n"
          ]
        },
        {
          "output_type": "stream",
          "name": "stdout",
          "text": [
            "Epoch 11/15, Loss: 0.3298\n"
          ]
        },
        {
          "output_type": "stream",
          "name": "stderr",
          "text": [
            "Epoch 12/15: 100%|██████████| 938/938 [00:17<00:00, 55.03it/s]\n"
          ]
        },
        {
          "output_type": "stream",
          "name": "stdout",
          "text": [
            "Epoch 12/15, Loss: 0.3237\n"
          ]
        },
        {
          "output_type": "stream",
          "name": "stderr",
          "text": [
            "Epoch 13/15: 100%|██████████| 938/938 [00:17<00:00, 54.61it/s]\n"
          ]
        },
        {
          "output_type": "stream",
          "name": "stdout",
          "text": [
            "Epoch 13/15, Loss: 0.3175\n"
          ]
        },
        {
          "output_type": "stream",
          "name": "stderr",
          "text": [
            "Epoch 14/15: 100%|██████████| 938/938 [00:17<00:00, 52.96it/s]\n"
          ]
        },
        {
          "output_type": "stream",
          "name": "stdout",
          "text": [
            "Epoch 14/15, Loss: 0.3123\n"
          ]
        },
        {
          "output_type": "stream",
          "name": "stderr",
          "text": [
            "Epoch 15/15: 100%|██████████| 938/938 [00:16<00:00, 55.94it/s]\n"
          ]
        },
        {
          "output_type": "stream",
          "name": "stdout",
          "text": [
            "Epoch 15/15, Loss: 0.3073\n",
            "Finished No Augmentation Experiment 2\n",
            "Starting No Augmentation Experiment 3 with learning rate 0.0001\n"
          ]
        },
        {
          "output_type": "stream",
          "name": "stderr",
          "text": [
            "Epoch 1/15: 100%|██████████| 938/938 [00:19<00:00, 48.62it/s]\n"
          ]
        },
        {
          "output_type": "stream",
          "name": "stdout",
          "text": [
            "Epoch 1/15, Loss: 1.3231\n"
          ]
        },
        {
          "output_type": "stream",
          "name": "stderr",
          "text": [
            "Epoch 2/15: 100%|██████████| 938/938 [00:16<00:00, 55.99it/s]\n"
          ]
        },
        {
          "output_type": "stream",
          "name": "stdout",
          "text": [
            "Epoch 2/15, Loss: 0.7218\n"
          ]
        },
        {
          "output_type": "stream",
          "name": "stderr",
          "text": [
            "Epoch 3/15: 100%|██████████| 938/938 [00:16<00:00, 55.93it/s]\n"
          ]
        },
        {
          "output_type": "stream",
          "name": "stdout",
          "text": [
            "Epoch 3/15, Loss: 0.6419\n"
          ]
        },
        {
          "output_type": "stream",
          "name": "stderr",
          "text": [
            "Epoch 4/15: 100%|██████████| 938/938 [00:16<00:00, 56.26it/s]\n"
          ]
        },
        {
          "output_type": "stream",
          "name": "stdout",
          "text": [
            "Epoch 4/15, Loss: 0.5976\n"
          ]
        },
        {
          "output_type": "stream",
          "name": "stderr",
          "text": [
            "Epoch 5/15: 100%|██████████| 938/938 [00:18<00:00, 51.72it/s]\n"
          ]
        },
        {
          "output_type": "stream",
          "name": "stdout",
          "text": [
            "Epoch 5/15, Loss: 0.5673\n"
          ]
        },
        {
          "output_type": "stream",
          "name": "stderr",
          "text": [
            "Epoch 6/15: 100%|██████████| 938/938 [00:16<00:00, 55.68it/s]\n"
          ]
        },
        {
          "output_type": "stream",
          "name": "stdout",
          "text": [
            "Epoch 6/15, Loss: 0.5450\n"
          ]
        },
        {
          "output_type": "stream",
          "name": "stderr",
          "text": [
            "Epoch 7/15: 100%|██████████| 938/938 [00:17<00:00, 54.86it/s]\n"
          ]
        },
        {
          "output_type": "stream",
          "name": "stdout",
          "text": [
            "Epoch 7/15, Loss: 0.5269\n"
          ]
        },
        {
          "output_type": "stream",
          "name": "stderr",
          "text": [
            "Epoch 8/15: 100%|██████████| 938/938 [00:17<00:00, 54.82it/s]\n"
          ]
        },
        {
          "output_type": "stream",
          "name": "stdout",
          "text": [
            "Epoch 8/15, Loss: 0.5113\n"
          ]
        },
        {
          "output_type": "stream",
          "name": "stderr",
          "text": [
            "Epoch 9/15: 100%|██████████| 938/938 [00:17<00:00, 53.93it/s]\n"
          ]
        },
        {
          "output_type": "stream",
          "name": "stdout",
          "text": [
            "Epoch 9/15, Loss: 0.4986\n"
          ]
        },
        {
          "output_type": "stream",
          "name": "stderr",
          "text": [
            "Epoch 10/15: 100%|██████████| 938/938 [00:17<00:00, 52.90it/s]\n"
          ]
        },
        {
          "output_type": "stream",
          "name": "stdout",
          "text": [
            "Epoch 10/15, Loss: 0.4866\n"
          ]
        },
        {
          "output_type": "stream",
          "name": "stderr",
          "text": [
            "Epoch 11/15: 100%|██████████| 938/938 [00:17<00:00, 54.32it/s]\n"
          ]
        },
        {
          "output_type": "stream",
          "name": "stdout",
          "text": [
            "Epoch 11/15, Loss: 0.4753\n"
          ]
        },
        {
          "output_type": "stream",
          "name": "stderr",
          "text": [
            "Epoch 12/15: 100%|██████████| 938/938 [00:18<00:00, 51.76it/s]\n"
          ]
        },
        {
          "output_type": "stream",
          "name": "stdout",
          "text": [
            "Epoch 12/15, Loss: 0.4651\n"
          ]
        },
        {
          "output_type": "stream",
          "name": "stderr",
          "text": [
            "Epoch 13/15: 100%|██████████| 938/938 [00:17<00:00, 52.75it/s]\n"
          ]
        },
        {
          "output_type": "stream",
          "name": "stdout",
          "text": [
            "Epoch 13/15, Loss: 0.4560\n"
          ]
        },
        {
          "output_type": "stream",
          "name": "stderr",
          "text": [
            "Epoch 14/15: 100%|██████████| 938/938 [00:17<00:00, 54.87it/s]\n"
          ]
        },
        {
          "output_type": "stream",
          "name": "stdout",
          "text": [
            "Epoch 14/15, Loss: 0.4463\n"
          ]
        },
        {
          "output_type": "stream",
          "name": "stderr",
          "text": [
            "Epoch 15/15: 100%|██████████| 938/938 [00:16<00:00, 56.13it/s]\n"
          ]
        },
        {
          "output_type": "stream",
          "name": "stdout",
          "text": [
            "Epoch 15/15, Loss: 0.4385\n",
            "Finished No Augmentation Experiment 3\n",
            "Starting No Augmentation Experiment 4 with learning rate 0.005\n"
          ]
        },
        {
          "output_type": "stream",
          "name": "stderr",
          "text": [
            "Epoch 1/15: 100%|██████████| 938/938 [00:17<00:00, 53.02it/s]\n"
          ]
        },
        {
          "output_type": "stream",
          "name": "stdout",
          "text": [
            "Epoch 1/15, Loss: 0.5471\n"
          ]
        },
        {
          "output_type": "stream",
          "name": "stderr",
          "text": [
            "Epoch 2/15: 100%|██████████| 938/938 [00:17<00:00, 54.38it/s]\n"
          ]
        },
        {
          "output_type": "stream",
          "name": "stdout",
          "text": [
            "Epoch 2/15, Loss: 0.3846\n"
          ]
        },
        {
          "output_type": "stream",
          "name": "stderr",
          "text": [
            "Epoch 3/15: 100%|██████████| 938/938 [00:17<00:00, 53.69it/s]\n"
          ]
        },
        {
          "output_type": "stream",
          "name": "stdout",
          "text": [
            "Epoch 3/15, Loss: 0.3540\n"
          ]
        },
        {
          "output_type": "stream",
          "name": "stderr",
          "text": [
            "Epoch 4/15: 100%|██████████| 938/938 [00:18<00:00, 51.78it/s]\n"
          ]
        },
        {
          "output_type": "stream",
          "name": "stdout",
          "text": [
            "Epoch 4/15, Loss: 0.3373\n"
          ]
        },
        {
          "output_type": "stream",
          "name": "stderr",
          "text": [
            "Epoch 5/15: 100%|██████████| 938/938 [00:17<00:00, 53.34it/s]\n"
          ]
        },
        {
          "output_type": "stream",
          "name": "stdout",
          "text": [
            "Epoch 5/15, Loss: 0.3254\n"
          ]
        },
        {
          "output_type": "stream",
          "name": "stderr",
          "text": [
            "Epoch 6/15: 100%|██████████| 938/938 [00:18<00:00, 51.16it/s]\n"
          ]
        },
        {
          "output_type": "stream",
          "name": "stdout",
          "text": [
            "Epoch 6/15, Loss: 0.3157\n"
          ]
        },
        {
          "output_type": "stream",
          "name": "stderr",
          "text": [
            "Epoch 7/15: 100%|██████████| 938/938 [00:17<00:00, 54.68it/s]\n"
          ]
        },
        {
          "output_type": "stream",
          "name": "stdout",
          "text": [
            "Epoch 7/15, Loss: 0.3063\n"
          ]
        },
        {
          "output_type": "stream",
          "name": "stderr",
          "text": [
            "Epoch 8/15: 100%|██████████| 938/938 [00:18<00:00, 51.06it/s]\n"
          ]
        },
        {
          "output_type": "stream",
          "name": "stdout",
          "text": [
            "Epoch 8/15, Loss: 0.2985\n"
          ]
        },
        {
          "output_type": "stream",
          "name": "stderr",
          "text": [
            "Epoch 9/15: 100%|██████████| 938/938 [00:17<00:00, 54.22it/s]\n"
          ]
        },
        {
          "output_type": "stream",
          "name": "stdout",
          "text": [
            "Epoch 9/15, Loss: 0.2972\n"
          ]
        },
        {
          "output_type": "stream",
          "name": "stderr",
          "text": [
            "Epoch 10/15: 100%|██████████| 938/938 [00:16<00:00, 55.42it/s]\n"
          ]
        },
        {
          "output_type": "stream",
          "name": "stdout",
          "text": [
            "Epoch 10/15, Loss: 0.2926\n"
          ]
        },
        {
          "output_type": "stream",
          "name": "stderr",
          "text": [
            "Epoch 11/15: 100%|██████████| 938/938 [00:16<00:00, 55.52it/s]\n"
          ]
        },
        {
          "output_type": "stream",
          "name": "stdout",
          "text": [
            "Epoch 11/15, Loss: 0.2850\n"
          ]
        },
        {
          "output_type": "stream",
          "name": "stderr",
          "text": [
            "Epoch 12/15: 100%|██████████| 938/938 [00:18<00:00, 51.19it/s]\n"
          ]
        },
        {
          "output_type": "stream",
          "name": "stdout",
          "text": [
            "Epoch 12/15, Loss: 0.2825\n"
          ]
        },
        {
          "output_type": "stream",
          "name": "stderr",
          "text": [
            "Epoch 13/15: 100%|██████████| 938/938 [00:17<00:00, 55.06it/s]\n"
          ]
        },
        {
          "output_type": "stream",
          "name": "stdout",
          "text": [
            "Epoch 13/15, Loss: 0.2804\n"
          ]
        },
        {
          "output_type": "stream",
          "name": "stderr",
          "text": [
            "Epoch 14/15: 100%|██████████| 938/938 [00:16<00:00, 55.42it/s]\n"
          ]
        },
        {
          "output_type": "stream",
          "name": "stdout",
          "text": [
            "Epoch 14/15, Loss: 0.2726\n"
          ]
        },
        {
          "output_type": "stream",
          "name": "stderr",
          "text": [
            "Epoch 15/15: 100%|██████████| 938/938 [00:16<00:00, 55.90it/s]\n"
          ]
        },
        {
          "output_type": "stream",
          "name": "stdout",
          "text": [
            "Epoch 15/15, Loss: 0.2745\n",
            "Finished No Augmentation Experiment 4\n",
            "Starting No Augmentation Experiment 5 with learning rate 0.002\n"
          ]
        },
        {
          "output_type": "stream",
          "name": "stderr",
          "text": [
            "Epoch 1/15: 100%|██████████| 938/938 [00:18<00:00, 51.04it/s]\n"
          ]
        },
        {
          "output_type": "stream",
          "name": "stdout",
          "text": [
            "Epoch 1/15, Loss: 0.6133\n"
          ]
        },
        {
          "output_type": "stream",
          "name": "stderr",
          "text": [
            "Epoch 2/15: 100%|██████████| 938/938 [00:17<00:00, 54.52it/s]\n"
          ]
        },
        {
          "output_type": "stream",
          "name": "stdout",
          "text": [
            "Epoch 2/15, Loss: 0.4270\n"
          ]
        },
        {
          "output_type": "stream",
          "name": "stderr",
          "text": [
            "Epoch 3/15: 100%|██████████| 938/938 [00:18<00:00, 51.99it/s]\n"
          ]
        },
        {
          "output_type": "stream",
          "name": "stdout",
          "text": [
            "Epoch 3/15, Loss: 0.3742\n"
          ]
        },
        {
          "output_type": "stream",
          "name": "stderr",
          "text": [
            "Epoch 4/15: 100%|██████████| 938/938 [00:17<00:00, 54.43it/s]\n"
          ]
        },
        {
          "output_type": "stream",
          "name": "stdout",
          "text": [
            "Epoch 4/15, Loss: 0.3486\n"
          ]
        },
        {
          "output_type": "stream",
          "name": "stderr",
          "text": [
            "Epoch 5/15: 100%|██████████| 938/938 [00:17<00:00, 54.97it/s]\n"
          ]
        },
        {
          "output_type": "stream",
          "name": "stdout",
          "text": [
            "Epoch 5/15, Loss: 0.3312\n"
          ]
        },
        {
          "output_type": "stream",
          "name": "stderr",
          "text": [
            "Epoch 6/15: 100%|██████████| 938/938 [00:17<00:00, 54.83it/s]\n"
          ]
        },
        {
          "output_type": "stream",
          "name": "stdout",
          "text": [
            "Epoch 6/15, Loss: 0.3163\n"
          ]
        },
        {
          "output_type": "stream",
          "name": "stderr",
          "text": [
            "Epoch 7/15: 100%|██████████| 938/938 [00:17<00:00, 53.06it/s]\n"
          ]
        },
        {
          "output_type": "stream",
          "name": "stdout",
          "text": [
            "Epoch 7/15, Loss: 0.3074\n"
          ]
        },
        {
          "output_type": "stream",
          "name": "stderr",
          "text": [
            "Epoch 8/15: 100%|██████████| 938/938 [00:17<00:00, 54.71it/s]\n"
          ]
        },
        {
          "output_type": "stream",
          "name": "stdout",
          "text": [
            "Epoch 8/15, Loss: 0.2947\n"
          ]
        },
        {
          "output_type": "stream",
          "name": "stderr",
          "text": [
            "Epoch 9/15: 100%|██████████| 938/938 [00:16<00:00, 55.84it/s]\n"
          ]
        },
        {
          "output_type": "stream",
          "name": "stdout",
          "text": [
            "Epoch 9/15, Loss: 0.2877\n"
          ]
        },
        {
          "output_type": "stream",
          "name": "stderr",
          "text": [
            "Epoch 10/15: 100%|██████████| 938/938 [00:16<00:00, 55.53it/s]\n"
          ]
        },
        {
          "output_type": "stream",
          "name": "stdout",
          "text": [
            "Epoch 10/15, Loss: 0.2808\n"
          ]
        },
        {
          "output_type": "stream",
          "name": "stderr",
          "text": [
            "Epoch 11/15: 100%|██████████| 938/938 [00:17<00:00, 52.96it/s]\n"
          ]
        },
        {
          "output_type": "stream",
          "name": "stdout",
          "text": [
            "Epoch 11/15, Loss: 0.2759\n"
          ]
        },
        {
          "output_type": "stream",
          "name": "stderr",
          "text": [
            "Epoch 12/15: 100%|██████████| 938/938 [00:19<00:00, 49.14it/s]\n"
          ]
        },
        {
          "output_type": "stream",
          "name": "stdout",
          "text": [
            "Epoch 12/15, Loss: 0.2688\n"
          ]
        },
        {
          "output_type": "stream",
          "name": "stderr",
          "text": [
            "Epoch 13/15: 100%|██████████| 938/938 [00:17<00:00, 54.86it/s]\n"
          ]
        },
        {
          "output_type": "stream",
          "name": "stdout",
          "text": [
            "Epoch 13/15, Loss: 0.2654\n"
          ]
        },
        {
          "output_type": "stream",
          "name": "stderr",
          "text": [
            "Epoch 14/15: 100%|██████████| 938/938 [00:17<00:00, 54.30it/s]\n"
          ]
        },
        {
          "output_type": "stream",
          "name": "stdout",
          "text": [
            "Epoch 14/15, Loss: 0.2606\n"
          ]
        },
        {
          "output_type": "stream",
          "name": "stderr",
          "text": [
            "Epoch 15/15: 100%|██████████| 938/938 [00:17<00:00, 52.26it/s]\n"
          ]
        },
        {
          "output_type": "stream",
          "name": "stdout",
          "text": [
            "Epoch 15/15, Loss: 0.2581\n",
            "Finished No Augmentation Experiment 5\n",
            "Starting Augmentation Experiment 1\n"
          ]
        },
        {
          "output_type": "stream",
          "name": "stderr",
          "text": [
            "Epoch 1/15: 100%|██████████| 938/938 [00:19<00:00, 47.28it/s]\n"
          ]
        },
        {
          "output_type": "stream",
          "name": "stdout",
          "text": [
            "Epoch 1/15, Loss: 0.7393\n"
          ]
        },
        {
          "output_type": "stream",
          "name": "stderr",
          "text": [
            "Epoch 2/15: 100%|██████████| 938/938 [00:20<00:00, 45.30it/s]\n"
          ]
        },
        {
          "output_type": "stream",
          "name": "stdout",
          "text": [
            "Epoch 2/15, Loss: 0.4851\n"
          ]
        },
        {
          "output_type": "stream",
          "name": "stderr",
          "text": [
            "Epoch 3/15: 100%|██████████| 938/938 [00:19<00:00, 47.16it/s]\n"
          ]
        },
        {
          "output_type": "stream",
          "name": "stdout",
          "text": [
            "Epoch 3/15, Loss: 0.4315\n"
          ]
        },
        {
          "output_type": "stream",
          "name": "stderr",
          "text": [
            "Epoch 4/15: 100%|██████████| 938/938 [00:21<00:00, 44.36it/s]\n"
          ]
        },
        {
          "output_type": "stream",
          "name": "stdout",
          "text": [
            "Epoch 4/15, Loss: 0.3972\n"
          ]
        },
        {
          "output_type": "stream",
          "name": "stderr",
          "text": [
            "Epoch 5/15: 100%|██████████| 938/938 [00:19<00:00, 47.11it/s]\n"
          ]
        },
        {
          "output_type": "stream",
          "name": "stdout",
          "text": [
            "Epoch 5/15, Loss: 0.3779\n"
          ]
        },
        {
          "output_type": "stream",
          "name": "stderr",
          "text": [
            "Epoch 6/15: 100%|██████████| 938/938 [00:22<00:00, 42.41it/s]\n"
          ]
        },
        {
          "output_type": "stream",
          "name": "stdout",
          "text": [
            "Epoch 6/15, Loss: 0.3616\n"
          ]
        },
        {
          "output_type": "stream",
          "name": "stderr",
          "text": [
            "Epoch 7/15: 100%|██████████| 938/938 [00:19<00:00, 47.79it/s]\n"
          ]
        },
        {
          "output_type": "stream",
          "name": "stdout",
          "text": [
            "Epoch 7/15, Loss: 0.3482\n"
          ]
        },
        {
          "output_type": "stream",
          "name": "stderr",
          "text": [
            "Epoch 8/15: 100%|██████████| 938/938 [00:20<00:00, 45.35it/s]\n"
          ]
        },
        {
          "output_type": "stream",
          "name": "stdout",
          "text": [
            "Epoch 8/15, Loss: 0.3342\n"
          ]
        },
        {
          "output_type": "stream",
          "name": "stderr",
          "text": [
            "Epoch 9/15: 100%|██████████| 938/938 [00:19<00:00, 46.91it/s]\n"
          ]
        },
        {
          "output_type": "stream",
          "name": "stdout",
          "text": [
            "Epoch 9/15, Loss: 0.3225\n"
          ]
        },
        {
          "output_type": "stream",
          "name": "stderr",
          "text": [
            "Epoch 10/15: 100%|██████████| 938/938 [00:20<00:00, 46.85it/s]\n"
          ]
        },
        {
          "output_type": "stream",
          "name": "stdout",
          "text": [
            "Epoch 10/15, Loss: 0.3161\n"
          ]
        },
        {
          "output_type": "stream",
          "name": "stderr",
          "text": [
            "Epoch 11/15: 100%|██████████| 938/938 [00:20<00:00, 46.01it/s]\n"
          ]
        },
        {
          "output_type": "stream",
          "name": "stdout",
          "text": [
            "Epoch 11/15, Loss: 0.3074\n"
          ]
        },
        {
          "output_type": "stream",
          "name": "stderr",
          "text": [
            "Epoch 12/15: 100%|██████████| 938/938 [00:19<00:00, 47.22it/s]\n"
          ]
        },
        {
          "output_type": "stream",
          "name": "stdout",
          "text": [
            "Epoch 12/15, Loss: 0.3055\n"
          ]
        },
        {
          "output_type": "stream",
          "name": "stderr",
          "text": [
            "Epoch 13/15: 100%|██████████| 938/938 [00:20<00:00, 45.32it/s]\n"
          ]
        },
        {
          "output_type": "stream",
          "name": "stdout",
          "text": [
            "Epoch 13/15, Loss: 0.3000\n"
          ]
        },
        {
          "output_type": "stream",
          "name": "stderr",
          "text": [
            "Epoch 14/15: 100%|██████████| 938/938 [00:20<00:00, 45.28it/s]\n"
          ]
        },
        {
          "output_type": "stream",
          "name": "stdout",
          "text": [
            "Epoch 14/15, Loss: 0.2929\n"
          ]
        },
        {
          "output_type": "stream",
          "name": "stderr",
          "text": [
            "Epoch 15/15: 100%|██████████| 938/938 [00:20<00:00, 45.78it/s]\n"
          ]
        },
        {
          "output_type": "stream",
          "name": "stdout",
          "text": [
            "Epoch 15/15, Loss: 0.2865\n",
            "Finished Augmentation Experiment 1\n",
            "Starting Augmentation Experiment 2\n"
          ]
        },
        {
          "output_type": "stream",
          "name": "stderr",
          "text": [
            "Epoch 1/15: 100%|██████████| 938/938 [00:23<00:00, 40.13it/s]\n"
          ]
        },
        {
          "output_type": "stream",
          "name": "stdout",
          "text": [
            "Epoch 1/15, Loss: 0.7050\n"
          ]
        },
        {
          "output_type": "stream",
          "name": "stderr",
          "text": [
            "Epoch 2/15: 100%|██████████| 938/938 [00:23<00:00, 40.69it/s]\n"
          ]
        },
        {
          "output_type": "stream",
          "name": "stdout",
          "text": [
            "Epoch 2/15, Loss: 0.5038\n"
          ]
        },
        {
          "output_type": "stream",
          "name": "stderr",
          "text": [
            "Epoch 3/15: 100%|██████████| 938/938 [00:22<00:00, 41.55it/s]\n"
          ]
        },
        {
          "output_type": "stream",
          "name": "stdout",
          "text": [
            "Epoch 3/15, Loss: 0.4582\n"
          ]
        },
        {
          "output_type": "stream",
          "name": "stderr",
          "text": [
            "Epoch 4/15: 100%|██████████| 938/938 [00:23<00:00, 40.38it/s]\n"
          ]
        },
        {
          "output_type": "stream",
          "name": "stdout",
          "text": [
            "Epoch 4/15, Loss: 0.4299\n"
          ]
        },
        {
          "output_type": "stream",
          "name": "stderr",
          "text": [
            "Epoch 5/15: 100%|██████████| 938/938 [00:22<00:00, 41.19it/s]\n"
          ]
        },
        {
          "output_type": "stream",
          "name": "stdout",
          "text": [
            "Epoch 5/15, Loss: 0.4101\n"
          ]
        },
        {
          "output_type": "stream",
          "name": "stderr",
          "text": [
            "Epoch 6/15: 100%|██████████| 938/938 [00:22<00:00, 41.30it/s]\n"
          ]
        },
        {
          "output_type": "stream",
          "name": "stdout",
          "text": [
            "Epoch 6/15, Loss: 0.3925\n"
          ]
        },
        {
          "output_type": "stream",
          "name": "stderr",
          "text": [
            "Epoch 7/15: 100%|██████████| 938/938 [00:24<00:00, 37.70it/s]\n"
          ]
        },
        {
          "output_type": "stream",
          "name": "stdout",
          "text": [
            "Epoch 7/15, Loss: 0.3813\n"
          ]
        },
        {
          "output_type": "stream",
          "name": "stderr",
          "text": [
            "Epoch 8/15: 100%|██████████| 938/938 [00:23<00:00, 40.73it/s]\n"
          ]
        },
        {
          "output_type": "stream",
          "name": "stdout",
          "text": [
            "Epoch 8/15, Loss: 0.3728\n"
          ]
        },
        {
          "output_type": "stream",
          "name": "stderr",
          "text": [
            "Epoch 9/15: 100%|██████████| 938/938 [00:22<00:00, 40.80it/s]\n"
          ]
        },
        {
          "output_type": "stream",
          "name": "stdout",
          "text": [
            "Epoch 9/15, Loss: 0.3595\n"
          ]
        },
        {
          "output_type": "stream",
          "name": "stderr",
          "text": [
            "Epoch 10/15: 100%|██████████| 938/938 [00:23<00:00, 39.67it/s]\n"
          ]
        },
        {
          "output_type": "stream",
          "name": "stdout",
          "text": [
            "Epoch 10/15, Loss: 0.3513\n"
          ]
        },
        {
          "output_type": "stream",
          "name": "stderr",
          "text": [
            "Epoch 11/15: 100%|██████████| 938/938 [00:23<00:00, 39.92it/s]\n"
          ]
        },
        {
          "output_type": "stream",
          "name": "stdout",
          "text": [
            "Epoch 11/15, Loss: 0.3461\n"
          ]
        },
        {
          "output_type": "stream",
          "name": "stderr",
          "text": [
            "Epoch 12/15: 100%|██████████| 938/938 [00:22<00:00, 41.45it/s]\n"
          ]
        },
        {
          "output_type": "stream",
          "name": "stdout",
          "text": [
            "Epoch 12/15, Loss: 0.3416\n"
          ]
        },
        {
          "output_type": "stream",
          "name": "stderr",
          "text": [
            "Epoch 13/15: 100%|██████████| 938/938 [00:23<00:00, 39.82it/s]\n"
          ]
        },
        {
          "output_type": "stream",
          "name": "stdout",
          "text": [
            "Epoch 13/15, Loss: 0.3343\n"
          ]
        },
        {
          "output_type": "stream",
          "name": "stderr",
          "text": [
            "Epoch 14/15: 100%|██████████| 938/938 [00:24<00:00, 37.78it/s]\n"
          ]
        },
        {
          "output_type": "stream",
          "name": "stdout",
          "text": [
            "Epoch 14/15, Loss: 0.3321\n"
          ]
        },
        {
          "output_type": "stream",
          "name": "stderr",
          "text": [
            "Epoch 15/15: 100%|██████████| 938/938 [00:23<00:00, 40.43it/s]\n"
          ]
        },
        {
          "output_type": "stream",
          "name": "stdout",
          "text": [
            "Epoch 15/15, Loss: 0.3287\n",
            "Finished Augmentation Experiment 2\n",
            "Starting Augmentation Experiment 3\n"
          ]
        },
        {
          "output_type": "stream",
          "name": "stderr",
          "text": [
            "Epoch 1/15: 100%|██████████| 938/938 [00:24<00:00, 38.89it/s]\n"
          ]
        },
        {
          "output_type": "stream",
          "name": "stdout",
          "text": [
            "Epoch 1/15, Loss: 1.0459\n"
          ]
        },
        {
          "output_type": "stream",
          "name": "stderr",
          "text": [
            "Epoch 2/15: 100%|██████████| 938/938 [00:24<00:00, 37.89it/s]\n"
          ]
        },
        {
          "output_type": "stream",
          "name": "stdout",
          "text": [
            "Epoch 2/15, Loss: 0.7839\n"
          ]
        },
        {
          "output_type": "stream",
          "name": "stderr",
          "text": [
            "Epoch 3/15: 100%|██████████| 938/938 [00:24<00:00, 38.44it/s]\n"
          ]
        },
        {
          "output_type": "stream",
          "name": "stdout",
          "text": [
            "Epoch 3/15, Loss: 0.7151\n"
          ]
        },
        {
          "output_type": "stream",
          "name": "stderr",
          "text": [
            "Epoch 4/15: 100%|██████████| 938/938 [00:24<00:00, 38.36it/s]\n"
          ]
        },
        {
          "output_type": "stream",
          "name": "stdout",
          "text": [
            "Epoch 4/15, Loss: 0.6553\n"
          ]
        },
        {
          "output_type": "stream",
          "name": "stderr",
          "text": [
            "Epoch 5/15: 100%|██████████| 938/938 [00:23<00:00, 40.01it/s]\n"
          ]
        },
        {
          "output_type": "stream",
          "name": "stdout",
          "text": [
            "Epoch 5/15, Loss: 0.6262\n"
          ]
        },
        {
          "output_type": "stream",
          "name": "stderr",
          "text": [
            "Epoch 6/15: 100%|██████████| 938/938 [00:26<00:00, 36.05it/s]\n"
          ]
        },
        {
          "output_type": "stream",
          "name": "stdout",
          "text": [
            "Epoch 6/15, Loss: 0.5958\n"
          ]
        },
        {
          "output_type": "stream",
          "name": "stderr",
          "text": [
            "Epoch 7/15: 100%|██████████| 938/938 [00:24<00:00, 38.57it/s]\n"
          ]
        },
        {
          "output_type": "stream",
          "name": "stdout",
          "text": [
            "Epoch 7/15, Loss: 0.5815\n"
          ]
        },
        {
          "output_type": "stream",
          "name": "stderr",
          "text": [
            "Epoch 8/15: 100%|██████████| 938/938 [00:24<00:00, 37.89it/s]\n"
          ]
        },
        {
          "output_type": "stream",
          "name": "stdout",
          "text": [
            "Epoch 8/15, Loss: 0.5672\n"
          ]
        },
        {
          "output_type": "stream",
          "name": "stderr",
          "text": [
            "Epoch 9/15: 100%|██████████| 938/938 [00:23<00:00, 39.43it/s]\n"
          ]
        },
        {
          "output_type": "stream",
          "name": "stdout",
          "text": [
            "Epoch 9/15, Loss: 0.5581\n"
          ]
        },
        {
          "output_type": "stream",
          "name": "stderr",
          "text": [
            "Epoch 10/15: 100%|██████████| 938/938 [00:23<00:00, 39.17it/s]\n"
          ]
        },
        {
          "output_type": "stream",
          "name": "stdout",
          "text": [
            "Epoch 10/15, Loss: 0.5413\n"
          ]
        },
        {
          "output_type": "stream",
          "name": "stderr",
          "text": [
            "Epoch 11/15: 100%|██████████| 938/938 [00:24<00:00, 38.04it/s]\n"
          ]
        },
        {
          "output_type": "stream",
          "name": "stdout",
          "text": [
            "Epoch 11/15, Loss: 0.5303\n"
          ]
        },
        {
          "output_type": "stream",
          "name": "stderr",
          "text": [
            "Epoch 12/15: 100%|██████████| 938/938 [00:24<00:00, 38.05it/s]\n"
          ]
        },
        {
          "output_type": "stream",
          "name": "stdout",
          "text": [
            "Epoch 12/15, Loss: 0.5242\n"
          ]
        },
        {
          "output_type": "stream",
          "name": "stderr",
          "text": [
            "Epoch 13/15: 100%|██████████| 938/938 [00:24<00:00, 37.58it/s]\n"
          ]
        },
        {
          "output_type": "stream",
          "name": "stdout",
          "text": [
            "Epoch 13/15, Loss: 0.5151\n"
          ]
        },
        {
          "output_type": "stream",
          "name": "stderr",
          "text": [
            "Epoch 14/15: 100%|██████████| 938/938 [00:24<00:00, 38.70it/s]\n"
          ]
        },
        {
          "output_type": "stream",
          "name": "stdout",
          "text": [
            "Epoch 14/15, Loss: 0.5085\n"
          ]
        },
        {
          "output_type": "stream",
          "name": "stderr",
          "text": [
            "Epoch 15/15: 100%|██████████| 938/938 [00:24<00:00, 38.28it/s]\n"
          ]
        },
        {
          "output_type": "stream",
          "name": "stdout",
          "text": [
            "Epoch 15/15, Loss: 0.5011\n",
            "Finished Augmentation Experiment 3\n",
            "Starting Augmentation Experiment 4\n"
          ]
        },
        {
          "output_type": "stream",
          "name": "stderr",
          "text": [
            "Epoch 1/15: 100%|██████████| 938/938 [00:34<00:00, 27.41it/s]\n"
          ]
        },
        {
          "output_type": "stream",
          "name": "stdout",
          "text": [
            "Epoch 1/15, Loss: 0.8345\n"
          ]
        },
        {
          "output_type": "stream",
          "name": "stderr",
          "text": [
            "Epoch 2/15: 100%|██████████| 938/938 [00:32<00:00, 28.62it/s]\n"
          ]
        },
        {
          "output_type": "stream",
          "name": "stdout",
          "text": [
            "Epoch 2/15, Loss: 0.5880\n"
          ]
        },
        {
          "output_type": "stream",
          "name": "stderr",
          "text": [
            "Epoch 3/15: 100%|██████████| 938/938 [00:33<00:00, 27.69it/s]\n"
          ]
        },
        {
          "output_type": "stream",
          "name": "stdout",
          "text": [
            "Epoch 3/15, Loss: 0.5270\n"
          ]
        },
        {
          "output_type": "stream",
          "name": "stderr",
          "text": [
            "Epoch 4/15: 100%|██████████| 938/938 [00:35<00:00, 26.70it/s]\n"
          ]
        },
        {
          "output_type": "stream",
          "name": "stdout",
          "text": [
            "Epoch 4/15, Loss: 0.4899\n"
          ]
        },
        {
          "output_type": "stream",
          "name": "stderr",
          "text": [
            "Epoch 5/15: 100%|██████████| 938/938 [00:33<00:00, 28.17it/s]\n"
          ]
        },
        {
          "output_type": "stream",
          "name": "stdout",
          "text": [
            "Epoch 5/15, Loss: 0.4691\n"
          ]
        },
        {
          "output_type": "stream",
          "name": "stderr",
          "text": [
            "Epoch 6/15: 100%|██████████| 938/938 [00:34<00:00, 27.07it/s]\n"
          ]
        },
        {
          "output_type": "stream",
          "name": "stdout",
          "text": [
            "Epoch 6/15, Loss: 0.4511\n"
          ]
        },
        {
          "output_type": "stream",
          "name": "stderr",
          "text": [
            "Epoch 7/15: 100%|██████████| 938/938 [00:33<00:00, 28.05it/s]\n"
          ]
        },
        {
          "output_type": "stream",
          "name": "stdout",
          "text": [
            "Epoch 7/15, Loss: 0.4370\n"
          ]
        },
        {
          "output_type": "stream",
          "name": "stderr",
          "text": [
            "Epoch 8/15: 100%|██████████| 938/938 [00:34<00:00, 27.37it/s]\n"
          ]
        },
        {
          "output_type": "stream",
          "name": "stdout",
          "text": [
            "Epoch 8/15, Loss: 0.4266\n"
          ]
        },
        {
          "output_type": "stream",
          "name": "stderr",
          "text": [
            "Epoch 9/15: 100%|██████████| 938/938 [00:34<00:00, 26.82it/s]\n"
          ]
        },
        {
          "output_type": "stream",
          "name": "stdout",
          "text": [
            "Epoch 9/15, Loss: 0.4135\n"
          ]
        },
        {
          "output_type": "stream",
          "name": "stderr",
          "text": [
            "Epoch 10/15: 100%|██████████| 938/938 [00:33<00:00, 27.66it/s]\n"
          ]
        },
        {
          "output_type": "stream",
          "name": "stdout",
          "text": [
            "Epoch 10/15, Loss: 0.4052\n"
          ]
        },
        {
          "output_type": "stream",
          "name": "stderr",
          "text": [
            "Epoch 11/15: 100%|██████████| 938/938 [00:34<00:00, 27.57it/s]\n"
          ]
        },
        {
          "output_type": "stream",
          "name": "stdout",
          "text": [
            "Epoch 11/15, Loss: 0.4032\n"
          ]
        },
        {
          "output_type": "stream",
          "name": "stderr",
          "text": [
            "Epoch 12/15: 100%|██████████| 938/938 [00:33<00:00, 28.20it/s]\n"
          ]
        },
        {
          "output_type": "stream",
          "name": "stdout",
          "text": [
            "Epoch 12/15, Loss: 0.3944\n"
          ]
        },
        {
          "output_type": "stream",
          "name": "stderr",
          "text": [
            "Epoch 13/15: 100%|██████████| 938/938 [00:34<00:00, 26.99it/s]\n"
          ]
        },
        {
          "output_type": "stream",
          "name": "stdout",
          "text": [
            "Epoch 13/15, Loss: 0.3875\n"
          ]
        },
        {
          "output_type": "stream",
          "name": "stderr",
          "text": [
            "Epoch 14/15: 100%|██████████| 938/938 [00:35<00:00, 26.40it/s]\n"
          ]
        },
        {
          "output_type": "stream",
          "name": "stdout",
          "text": [
            "Epoch 14/15, Loss: 0.3833\n"
          ]
        },
        {
          "output_type": "stream",
          "name": "stderr",
          "text": [
            "Epoch 15/15: 100%|██████████| 938/938 [00:33<00:00, 28.03it/s]\n"
          ]
        },
        {
          "output_type": "stream",
          "name": "stdout",
          "text": [
            "Epoch 15/15, Loss: 0.3786\n",
            "Finished Augmentation Experiment 4\n",
            "Starting Augmentation Experiment 5\n"
          ]
        },
        {
          "output_type": "stream",
          "name": "stderr",
          "text": [
            "Epoch 1/15: 100%|██████████| 938/938 [00:34<00:00, 27.28it/s]\n"
          ]
        },
        {
          "output_type": "stream",
          "name": "stdout",
          "text": [
            "Epoch 1/15, Loss: 0.7413\n"
          ]
        },
        {
          "output_type": "stream",
          "name": "stderr",
          "text": [
            "Epoch 2/15: 100%|██████████| 938/938 [00:35<00:00, 26.63it/s]\n"
          ]
        },
        {
          "output_type": "stream",
          "name": "stdout",
          "text": [
            "Epoch 2/15, Loss: 0.5061\n"
          ]
        },
        {
          "output_type": "stream",
          "name": "stderr",
          "text": [
            "Epoch 3/15: 100%|██████████| 938/938 [00:34<00:00, 27.49it/s]\n"
          ]
        },
        {
          "output_type": "stream",
          "name": "stdout",
          "text": [
            "Epoch 3/15, Loss: 0.4468\n"
          ]
        },
        {
          "output_type": "stream",
          "name": "stderr",
          "text": [
            "Epoch 4/15: 100%|██████████| 938/938 [00:36<00:00, 25.74it/s]\n"
          ]
        },
        {
          "output_type": "stream",
          "name": "stdout",
          "text": [
            "Epoch 4/15, Loss: 0.4162\n"
          ]
        },
        {
          "output_type": "stream",
          "name": "stderr",
          "text": [
            "Epoch 5/15: 100%|██████████| 938/938 [00:33<00:00, 27.78it/s]\n"
          ]
        },
        {
          "output_type": "stream",
          "name": "stdout",
          "text": [
            "Epoch 5/15, Loss: 0.3898\n"
          ]
        },
        {
          "output_type": "stream",
          "name": "stderr",
          "text": [
            "Epoch 6/15: 100%|██████████| 938/938 [00:34<00:00, 27.08it/s]\n"
          ]
        },
        {
          "output_type": "stream",
          "name": "stdout",
          "text": [
            "Epoch 6/15, Loss: 0.3734\n"
          ]
        },
        {
          "output_type": "stream",
          "name": "stderr",
          "text": [
            "Epoch 7/15: 100%|██████████| 938/938 [00:33<00:00, 27.85it/s]\n"
          ]
        },
        {
          "output_type": "stream",
          "name": "stdout",
          "text": [
            "Epoch 7/15, Loss: 0.3620\n"
          ]
        },
        {
          "output_type": "stream",
          "name": "stderr",
          "text": [
            "Epoch 8/15: 100%|██████████| 938/938 [00:34<00:00, 27.48it/s]\n"
          ]
        },
        {
          "output_type": "stream",
          "name": "stdout",
          "text": [
            "Epoch 8/15, Loss: 0.3485\n"
          ]
        },
        {
          "output_type": "stream",
          "name": "stderr",
          "text": [
            "Epoch 9/15: 100%|██████████| 938/938 [00:35<00:00, 26.42it/s]\n"
          ]
        },
        {
          "output_type": "stream",
          "name": "stdout",
          "text": [
            "Epoch 9/15, Loss: 0.3377\n"
          ]
        },
        {
          "output_type": "stream",
          "name": "stderr",
          "text": [
            "Epoch 10/15: 100%|██████████| 938/938 [00:33<00:00, 27.96it/s]\n"
          ]
        },
        {
          "output_type": "stream",
          "name": "stdout",
          "text": [
            "Epoch 10/15, Loss: 0.3302\n"
          ]
        },
        {
          "output_type": "stream",
          "name": "stderr",
          "text": [
            "Epoch 11/15: 100%|██████████| 938/938 [00:35<00:00, 26.71it/s]\n"
          ]
        },
        {
          "output_type": "stream",
          "name": "stdout",
          "text": [
            "Epoch 11/15, Loss: 0.3222\n"
          ]
        },
        {
          "output_type": "stream",
          "name": "stderr",
          "text": [
            "Epoch 12/15: 100%|██████████| 938/938 [00:35<00:00, 26.51it/s]\n"
          ]
        },
        {
          "output_type": "stream",
          "name": "stdout",
          "text": [
            "Epoch 12/15, Loss: 0.3163\n"
          ]
        },
        {
          "output_type": "stream",
          "name": "stderr",
          "text": [
            "Epoch 13/15: 100%|██████████| 938/938 [00:34<00:00, 27.14it/s]\n"
          ]
        },
        {
          "output_type": "stream",
          "name": "stdout",
          "text": [
            "Epoch 13/15, Loss: 0.3102\n"
          ]
        },
        {
          "output_type": "stream",
          "name": "stderr",
          "text": [
            "Epoch 14/15: 100%|██████████| 938/938 [00:36<00:00, 25.95it/s]\n"
          ]
        },
        {
          "output_type": "stream",
          "name": "stdout",
          "text": [
            "Epoch 14/15, Loss: 0.3064\n"
          ]
        },
        {
          "output_type": "stream",
          "name": "stderr",
          "text": [
            "Epoch 15/15: 100%|██████████| 938/938 [00:34<00:00, 27.33it/s]\n"
          ]
        },
        {
          "output_type": "stream",
          "name": "stdout",
          "text": [
            "Epoch 15/15, Loss: 0.3004\n",
            "Finished Augmentation Experiment 5\n"
          ]
        }
      ]
    },
    {
      "cell_type": "code",
      "source": [
        "# Create a DataFrame to summarize the results of all experiments\n",
        "summary_df = pd.DataFrame(experiments)\n",
        "# Save the summary table to a CSV file for later use\n",
        "summary_df.to_csv('/content/drive/MyDrive/DDO/summary_experiments.csv', index=False)\n",
        "print(summary_df)  # Display the summary table\n"
      ],
      "metadata": {
        "colab": {
          "base_uri": "https://localhost:8080/"
        },
        "id": "_o_fxy09RZ82",
        "outputId": "c34e4cd9-fe3d-4921-f862-ac388b8a210d"
      },
      "execution_count": null,
      "outputs": [
        {
          "output_type": "stream",
          "name": "stdout",
          "text": [
            "  Experiment  Learning Rate  Train Loss  Test Loss  Accuracy  \\\n",
            "0   No Aug 1         0.0010    0.365717   0.347872     87.44   \n",
            "1   No Aug 2         0.0005    0.392754   0.349448     87.26   \n",
            "2   No Aug 3         0.0001    0.580088   0.456087     83.92   \n",
            "3   No Aug 4         0.0050    0.323578   0.355796     87.31   \n",
            "4   No Aug 5         0.0020    0.327336   0.315186     88.91   \n",
            "5      Aug 1            NaN    0.373737   0.330288     88.02   \n",
            "6      Aug 2            NaN    0.403153   0.342607     88.11   \n",
            "7      Aug 3            NaN    0.616628   0.454541     82.89   \n",
            "8      Aug 4            NaN    0.465929   0.358775     87.25   \n",
            "9      Aug 5            NaN    0.387169   0.336463     88.07   \n",
            "\n",
            "                                      Transformation  \n",
            "0                                                NaN  \n",
            "1                                                NaN  \n",
            "2                                                NaN  \n",
            "3                                                NaN  \n",
            "4                                                NaN  \n",
            "5  Compose(\\n    ToPILImage()\\n    RandomHorizont...  \n",
            "6  Compose(\\n    ToPILImage()\\n    RandomRotation...  \n",
            "7  Compose(\\n    ToPILImage()\\n    RandomAffine(d...  \n",
            "8  Compose(\\n    ToPILImage()\\n    RandomResizedC...  \n",
            "9  Compose(\\n    ToPILImage()\\n    ColorJitter(br...  \n"
          ]
        }
      ]
    },
    {
      "cell_type": "code",
      "source": [
        "# Plot the accuracy results of the experiments\n",
        "plt.figure(figsize=(12, 6))  # Set figure size for better readability\n",
        "# Create a bar chart showing the accuracy of each experiment\n",
        "plt.bar(summary_df['Experiment'], summary_df['Accuracy'], color=['blue']*5)"
      ],
      "metadata": {
        "colab": {
          "base_uri": "https://localhost:8080/",
          "height": 539
        },
        "id": "3nTEA6HtRd-8",
        "outputId": "6e38fb2d-3007-4704-d1fd-d297dcf5b009"
      },
      "execution_count": null,
      "outputs": [
        {
          "output_type": "execute_result",
          "data": {
            "text/plain": [
              "<BarContainer object of 10 artists>"
            ]
          },
          "metadata": {},
          "execution_count": 45
        },
        {
          "output_type": "display_data",
          "data": {
            "text/plain": [
              "<Figure size 1200x600 with 1 Axes>"
            ],
            "image/png": "[encoded data removed]"
          },
          "metadata": {}
        }
      ]
    }
  ]
}
