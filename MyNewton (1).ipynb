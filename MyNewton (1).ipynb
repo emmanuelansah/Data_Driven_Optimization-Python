{
 "cells": [
  {
   "cell_type": "code",
   "execution_count": 1,
   "id": "0b97eb7c",
   "metadata": {},
   "outputs": [
    {
     "name": "stdout",
     "output_type": "stream",
     "text": [
      "[-0.29999018 -0.79999924]\n",
      "7.594146366685469e-05\n",
      "20\n"
     ]
    },
    {
     "data": {
      "text/plain": [
       "[<matplotlib.lines.Line2D at 0x232dcf87690>]"
      ]
     },
     "execution_count": 1,
     "metadata": {},
     "output_type": "execute_result"
    },
    {
     "data": {
      "image/png": "[encoded data removed]",
      "text/plain": [
       "<Figure size 640x480 with 1 Axes>"
      ]
     },
     "metadata": {},
     "output_type": "display_data"
    }
   ],
   "source": [
    "import numpy as np\n",
    "import numpy.linalg as la\n",
    "\n",
    "import scipy.optimize as sopt\n",
    "\n",
    "import matplotlib.pyplot as pt\n",
    "from mpl_toolkits.mplot3d import axes3d\n",
    "\n",
    "\n",
    "\n",
    "def myFun(w):\n",
    "    return (3*(w[0]**2+w[1]**2) + 4*w[0]*w[1] + 5*w[0] + 6*w[1] + 7)\n",
    "\n",
    "def gradFun(w):\n",
    "    return np.array([6*w[0] + 4*w[1] + 5, 6*w[1] + 4*w[0]+6])\n",
    "\n",
    "#def oneDFun(alpha):\n",
    "#    return myFun(x + alpha*dk)\n",
    "\n",
    "\n",
    "iterate = np.array([10, 0])  #initial iterate\n",
    "historyIter = [iterate]\n",
    "historyFun=[myFun(iterate)]\n",
    "maxIter=100\n",
    "tol=0.0001\n",
    "k=0\n",
    "\n",
    "\n",
    "\n",
    "N = len(iterate)\n",
    "\n",
    "#I = np.eye(N, dtype=int) # Identity matrix I of size NxN.\n",
    "#Bk = I   # Set the first iteration matrix for BFGS\n",
    "\n",
    "\n",
    "grad=gradFun(iterate)\n",
    "#H = np.matrix('6 4; 4 6')    constant Hessian matrix\n",
    "H = [[6, 4], \n",
    "    [4, 6]]\n",
    "\n",
    "\n",
    "while  (la.norm(gradFun(iterate)) > tol) and (k <= maxIter):\n",
    "#for i in range(maxIter):\n",
    "     b = -gradFun(iterate)    \n",
    "     dk = np.linalg.solve(H,b)  # determine the search direction\n",
    "        \n",
    "     #dk = -Bk*gradFun(iterate)  # when using the DFP update in QN Method\n",
    "     ################ constant step length \n",
    "     next_iterate = iterate + 0.5* dk  # constant alpha\n",
    "           \n",
    "     ############# List for Plotting function values ###########  \n",
    "     historyIter.append(next_iterate)\n",
    "     funValue=myFun(next_iterate)\n",
    "     historyFun.append(funValue)\n",
    "     ######## update iteration counter and the new iterate\n",
    "     k=k+1\n",
    "     iterate=next_iterate\n",
    "        \n",
    "       \n",
    "\n",
    "\n",
    "############# after the termination of the algorithm #############\n",
    "print(iterate)\n",
    "grad=gradFun(iterate)\n",
    "print(la.norm(grad))\n",
    "print(k) # number of iteration until termination\n",
    "\n",
    "functionValues = np. array(historyFun)\n",
    "functionValues = functionValues.flatten()\n",
    "n=len(functionValues)\n",
    "\n",
    "x=range(n)\n",
    "pt.plot(x, historyFun)"
   ]
  },
  {
   "cell_type": "code",
   "execution_count": null,
   "id": "3f963cfa",
   "metadata": {},
   "outputs": [],
   "source": []
  },
  {
   "cell_type": "code",
   "execution_count": null,
   "id": "a738ed75",
   "metadata": {},
   "outputs": [],
   "source": []
  }
 ],
 "metadata": {
  "kernelspec": {
   "display_name": "base",
   "language": "python",
   "name": "python3"
  },
  "language_info": {
   "codemirror_mode": {
    "name": "ipython",
    "version": 3
   },
   "file_extension": ".py",
   "mimetype": "text/x-python",
   "name": "python",
   "nbconvert_exporter": "python",
   "pygments_lexer": "ipython3",
   "version": "3.11.7"
  }
 },
 "nbformat": 4,
 "nbformat_minor": 5
}
